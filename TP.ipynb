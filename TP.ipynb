{
 "cells": [
  {
   "cell_type": "markdown",
   "metadata": {},
   "source": [
    "**NOM:** KETELS\n",
    "\n",
    "**Prénom:** Lucas\n",
    "\n",
    "**N° étudiant$\\cdot$e:** 71800543"
   ]
  },
  {
   "cell_type": "markdown",
   "metadata": {
    "tags": []
   },
   "source": [
    "# TP : Modélisation et résolution d'un problème de classification"
   ]
  },
  {
   "cell_type": "markdown",
   "metadata": {},
   "source": []
  },
  {
   "cell_type": "markdown",
   "metadata": {},
   "source": [
    "**Description du devoir:**\n",
    "\n",
    "- la partie **I** est une mise en bouche avec le problème.\n",
    "- dans la partie **II** vous mettrez en valeur certaines des choses que vous avez appris en cours. C'est la partie centrale du devoir, donc la plus importante.\n",
    "- la partie **III** est une application à un problème de traitement de données, qui consiste à exploiter les résultats de la partie **II** sur un vrai problème. C'est là que vous montrerez si vous avez compris ce qui se passe dans la partie **II**."
   ]
  },
  {
   "cell_type": "markdown",
   "metadata": {
    "tags": []
   },
   "source": [
    "# I. Introduction"
   ]
  },
  {
   "cell_type": "markdown",
   "metadata": {
    "tags": []
   },
   "source": [
    "## 0. Description générale du problème"
   ]
  },
  {
   "cell_type": "markdown",
   "metadata": {},
   "source": [
    "On suppose que l'on dispose d'un certain type de données, et on veut être capable de les **classer** en deux groupes. Ce type de problème peut être très facile à réaliser pour un humain, mais toute la question est de savoir comment automatiser cette prise de décision pour l'implémenter sur une machine.\n",
    "\n",
    "| Un problème simple de classification simple pour un humain | |\n",
    "|---|---|\n",
    "| ![](images/cat.jpg) | ![](images/dog.jpg) |\n",
    "| Type de données: photos | Classes possibles : Chat ou chien |\n",
    "\n",
    "L'objectif de ce TP est de vous montrer comment résoudre ce type problème (en tout cas lorsqu'il n'est pas trop difficile). Dans un premier temps vous vous familiariserez avec le sujet sur des données synthétiques, puis vous travaillerez ensuite avec de vraies données: des photos contenant des caractères écrits à la main."
   ]
  },
  {
   "cell_type": "markdown",
   "metadata": {},
   "source": [
    "**Présentation du problème**\n",
    "\n",
    "Une façon de modéliser ce problème est la suivante: on se retrouve face à une donnée $x \\in \\mathbb{R}^N$ et on veut lui attribuer une classe. Pour simplifier, lorsqu'on a un problème à deux classes comme dans les exemples ci-dessus, on dit souvent que les deux classes sont $\\{-1,+1\\}$. \n",
    "Par exemple $-1$ pourrait désigner \"chien\" et $1$ désignerait \"chat\".\n",
    "\n",
    "Ce que l'on souhaite donc implémenter est ce que l'on appelle un **classifieur**, c'est-à-dire une fonction $c : \\mathbb{R}^N \\longrightarrow \\{-1,+1\\}$ qui prend en entrée une donnée $x \\in \\mathbb{R}^N$, et qui donne en sortie une étiquette $\\pm 1$. Evidemment on ne va pas prendre n'importe quelle fonction $\\mathbb{R}^N \\longrightarrow \\{-1,+1\\}$, on veut que notre calssifieur fasse un \"bon\" travail en classant les données qu'on lui fournit.\n",
    "\n",
    "**Comment faire ça?**\n",
    "\n",
    "En pratique on suit le processus suivant: \n",
    "\n",
    "*1) Consititution d'une base de données*: on se procure\n",
    "\n",
    "- Une famille de données $\\{x_1, \\dots, x_m\\} \\subset \\mathbb{R}^N$ (par exemple tout un tas de photos de chats et de chiens)\n",
    "- La famille des étiquettes correspndantes $\\{y_1, \\dots, y_m\\} \\subset \\{ -1,+1\\}$, où chaque $y_i$ a été bien choisi par un humain\n",
    "\n",
    "Par exemple, en reprenant la convention ci-dessus, si $x_{47}$ est une photo de chien, alors $y_{47}=-1$ (rappelons que toute photo peut être vue comme un vecteur de $\\mathbb{R}^N$ où $N$ correspond au nombre de pixels de la photo).\n",
    "\n",
    "*2) La phase d'entraînement*: à partir de cette base de données, on va construire un classifieur $c : \\mathbb{R}^N \\longrightarrow \\{-1,+1\\}$, en demandant à ce que ce classifieur verifie, pour tout point de notre base de données, $c(x_i) = y_i$. Ainsi, on espère que si le classifieur fonctionne bien sur notre base de données, alors il fonctionnera également lorsqu'on lui présentera de nouvelles données.\n",
    "\n",
    "Ce TP se focalisera sur cette phase, le but étant de montrer que derrière ce problème se cache en fait un problème d'optimisation, que l'on va résoudre.\n",
    "\n",
    "*3) La phase de test*: Une fois que l'on aura trouvé notre classifieur, il faudra bien tester si il marche bien! Pour cela, on se constituera une nouvelle base de données $\\{(\\hat x_i,\\hat y_i)\\}$ similaire à celle mentionnée plus haut, et on regardera si l'étiquette prédite $c(\\hat x_i)$ est bien égale à $\\hat y_i$. On pourra par exemple compter le nombre de fois où le classifieur trouve la bonne réponse, et donc en déduire un pourcentage de succès estimé.\n",
    "\n",
    "**Rq:** Noter qu'en pratique on ne constitue pas deux bases de données. On construit une grosse base de données une fois pour toute, puis on la divise en deux parties: les données dites \"d'entrainement\" qui vont servir à construire le classifieur $c$, et d'autre part les données de \"test\" qui vont permettre d'évaluer si notre classifieur marche bien sur de nouvelles données.\n",
    "\n"
   ]
  },
  {
   "cell_type": "markdown",
   "metadata": {
    "tags": []
   },
   "source": [
    "## 1. Premier contact avec le problème"
   ]
  },
  {
   "cell_type": "code",
   "execution_count": 1,
   "metadata": {},
   "outputs": [],
   "source": [
    "import numpy as np\n",
    "import numpy.linalg as la\n",
    "import matplotlib.pyplot as plt"
   ]
  },
  {
   "cell_type": "markdown",
   "metadata": {},
   "source": [
    "**1)** On commence par importer des données"
   ]
  },
  {
   "cell_type": "code",
   "execution_count": 2,
   "metadata": {},
   "outputs": [],
   "source": [
    "X = np.load('data/donnees_entrainement.npy')"
   ]
  },
  {
   "cell_type": "markdown",
   "metadata": {},
   "source": [
    "Ces données correspondent à $m$ points de $\\mathbb{R}^2$, qui sont rangées dans une matrice à $m$ lignes et 2 colonnes.\n",
    "Chaque *ligne* de la matrice correspond donc à un point de $\\mathbb{R}^2$.\n",
    "Vous pouvez regarder quelle est la taille de la matrice avec la méthode `X.shape`, ce qui vous permettra de déterminer la valuer de $m$."
   ]
  },
  {
   "cell_type": "code",
   "execution_count": 3,
   "metadata": {},
   "outputs": [
    {
     "name": "stdout",
     "output_type": "stream",
     "text": [
      "(200, 2)\n"
     ]
    }
   ],
   "source": [
    "print(X.shape)"
   ]
  },
  {
   "cell_type": "code",
   "execution_count": 4,
   "metadata": {},
   "outputs": [],
   "source": [
    "m = 200"
   ]
  },
  {
   "cell_type": "markdown",
   "metadata": {},
   "source": [
    "Vu que nos données sont des points du plan, on va pouvoir facilement les visualiser avec la fonction `plt.scatter` de pyplot."
   ]
  },
  {
   "cell_type": "code",
   "execution_count": 5,
   "metadata": {},
   "outputs": [
    {
     "data": {
      "image/png": "[encoded data removed]",
      "text/plain": [
       "<Figure size 432x288 with 1 Axes>"
      ]
     },
     "metadata": {
      "needs_background": "light"
     },
     "output_type": "display_data"
    }
   ],
   "source": [
    "couleur = [None]*m # liste vide de taille m\n",
    "for k in range(m):\n",
    "    couleur[k] = 'blue'\n",
    "_=plt.scatter(X[:, 0], X[:, 1], c=couleur)"
   ]
  },
  {
   "cell_type": "markdown",
   "metadata": {},
   "source": [
    "**2)** Vous devriez être maintenant convaincus que ce jeu de données contient deux groupes de points appartenant à des familles distinctes. Or nous n'en savons rien, à priori, le seul moyen d'en être sur est d'aller regarder les *etiquettes* correspondantes. Importons-les:"
   ]
  },
  {
   "cell_type": "code",
   "execution_count": 6,
   "metadata": {},
   "outputs": [],
   "source": [
    "Y = np.load('data/etiquettes_entrainement.npy')"
   ]
  },
  {
   "cell_type": "markdown",
   "metadata": {},
   "source": [
    "Vérifiez que ce vecteur ne contient que des étiquettes $\\pm 1$."
   ]
  },
  {
   "cell_type": "code",
   "execution_count": 7,
   "metadata": {},
   "outputs": [
    {
     "name": "stdout",
     "output_type": "stream",
     "text": [
      "Y ne contient que des étiquettes +1 et -1\n"
     ]
    }
   ],
   "source": [
    "if all(y == 1 or y == -1 for y in Y):\n",
    "    print(\"Y ne contient que des étiquettes +1 et -1\")\n",
    "else:\n",
    "    print(\"Y ne contient pas que des étiquettes +1 et -1\")"
   ]
  },
  {
   "cell_type": "markdown",
   "metadata": {},
   "source": [
    "En adaptant le code de la précédente question, affichez de nouveau ce nuage de points cette fois-ci avec deux couleurs: rouge pour les points avec l'étiquette $-1$, et bleu pour les points avec l'étiquette $+1$."
   ]
  },
  {
   "cell_type": "code",
   "execution_count": 8,
   "metadata": {},
   "outputs": [],
   "source": [
    "couleur = [None] * m\n",
    "for i in range(m):\n",
    "    if Y[i] == 1:\n",
    "        couleur[i] = \"blue\"\n",
    "    else:\n",
    "        couleur[i] = \"red\""
   ]
  },
  {
   "cell_type": "code",
   "execution_count": 9,
   "metadata": {},
   "outputs": [
    {
     "data": {
      "image/png": "[encoded data removed]",
      "text/plain": [
       "<Figure size 432x288 with 1 Axes>"
      ]
     },
     "metadata": {
      "needs_background": "light"
     },
     "output_type": "display_data"
    }
   ],
   "source": [
    "_ = plt.scatter(X[:, 0], X[:, 1], c = couleur)"
   ]
  },
  {
   "cell_type": "markdown",
   "metadata": {},
   "source": [
    "**3)** Une approche intuitive pour classer ce problème consiste à tracer une droite qui va séparer ces deux nuages: ainsi fait, on pourra dire que tout nouveau point qui apparaitra d'un côté de la droite sera \"rouge\" et de l'autre les \"bleus\".\n",
    "\n",
    "Ici on va considérer une droite dans $\\mathbb{R}^2$ comme étant l'ensemble des points satisfaisant l'équation\n",
    "\n",
    "$$ D = \\{ x \\in \\mathbb{R}^2 \\ | \\ \\langle a, x \\rangle + b =0 \\},$$\n",
    "\n",
    "où $a \\in \\mathbb{R}^2$ et $b \\in \\mathbb{R}$ sont à choisir. On notera par la suite $w = (a,b) \\in \\mathbb{R}^2 \\times \\mathbb{R}$ le vecteur de paramètres décrivant la droite $D$.\n",
    "\n",
    "En utilisant le code ci-dessous, ajoutez le tracé d'une droite aux données, et jouez avec la valeur de $w$ pour essayer de trouver la droite qui sépare le mieux les deux classes."
   ]
  },
  {
   "cell_type": "code",
   "execution_count": 10,
   "metadata": {},
   "outputs": [],
   "source": [
    "def trace_droite(w):\n",
    "    # trace la droite des points x vérfiant l'équation <a,x>+b=0\n",
    "    # où w = (a_1, a_2, b)\n",
    "    a = w[0:2]\n",
    "    b = w[2]\n",
    "    if a[1] == 0:\n",
    "        alpha, beta = 0, 0\n",
    "    else:\n",
    "        alpha = -a[0]/a[1]\n",
    "        beta = -b/a[1]\n",
    "    abscisse = np.arange(-5,5,0.1)\n",
    "    ordonnee = alpha*abscisse + beta\n",
    "    plt.plot(abscisse, ordonnee)"
   ]
  },
  {
   "cell_type": "code",
   "execution_count": 11,
   "metadata": {},
   "outputs": [
    {
     "data": {
      "image/png": "[encoded data removed]",
      "text/plain": [
       "<Figure size 432x288 with 1 Axes>"
      ]
     },
     "metadata": {
      "needs_background": "light"
     },
     "output_type": "display_data"
    }
   ],
   "source": [
    "w = np.array([-1, -1, 0])\n",
    "trace_droite(w)\n",
    "_=plt.scatter(X[:, 0], X[:, 1], c=couleur)"
   ]
  },
  {
   "cell_type": "markdown",
   "metadata": {},
   "source": [
    "Pensez-vous que certaines droites sont meilleures que les autres?"
   ]
  },
  {
   "cell_type": "markdown",
   "metadata": {},
   "source": [
    "Il est clair que certaine droite sont meilleures que d'autres. Imaginons un droite qui sépare bien notre ensemble de points, mais que cette droite est très \"proche\" du nuage de points bleus. Alors en rajoutant un point $x \\in \\mathbb{R}^2$ \"proche\" du nuage de points bleus, il est possible que ce point se situe du même côté que le nuage de points rouges. Or $x$ devrait plutôt être classé comme un point bleu. Par exemble la droite ci-dessous semble intuitivement moins bonne que celle tracée ci-dessus: "
   ]
  },
  {
   "cell_type": "code",
   "execution_count": 12,
   "metadata": {},
   "outputs": [
    {
     "data": {
      "image/png": "[encoded data removed]",
      "text/plain": [
       "<Figure size 432x288 with 1 Axes>"
      ]
     },
     "metadata": {
      "needs_background": "light"
     },
     "output_type": "display_data"
    }
   ],
   "source": [
    "w = np.array([-1, -1, 2.5])\n",
    "trace_droite(w)\n",
    "_=plt.scatter(X[:, 0], X[:, 1], c=couleur)"
   ]
  },
  {
   "cell_type": "markdown",
   "metadata": {
    "tags": []
   },
   "source": [
    "## 2. Modélisation : trouver une droite séparatrice optimale"
   ]
  },
  {
   "cell_type": "markdown",
   "metadata": {
    "jp-MarkdownHeadingCollapsed": true,
    "tags": []
   },
   "source": [
    "Ici nous allons **modéliser** le problème : le formaliser sous la forme d'un problème mathématique, et plus précisément sous la forme d'un problème d'optimisation.\n",
    "\n",
    "On cherche à trouver un bon paramètre $w = (a,b)\\in \\mathbb{R}^2 \\times \\mathbb{R}$, qui va décrire une bonne droite d'équation $\\langle a,x \\rangle + b= 0$.\n",
    "Mais qu'est-ce qu'une *bonne* droite? \n",
    "\n",
    "|  | Choisir une bonne droite pour séparer les données | |\n",
    "|---|---|---|\n",
    "| ![](images/classif_neutral.png) | ![](images/classif_good.png) | ![](images/classif_bad.png) |\n",
    "| Un nouveau point apparaît | Quelle droite classifie le mieux ? |  |\n",
    "\n",
    "Au vu de la question précédente, on attend deux propriétés:\n",
    "\n",
    "- D'une part on veut clairement que la droite **sépare** bien les deux groupes de données.\n",
    "- D'autre part, on voudrait que la droite passe le **plus loin possible** des données. \n",
    "  - En effet, si un nouveau point vient à apparaitre on imagine qu'il va rester près d'un des deux nuages. Donc si la droite est loin des nuages, elle sera également loin de ce nouveau point, et on évitera le problème d'un point qui apparait trop près de la droite, en qui on n'aurait pas trop confiance.\n",
    "\n",
    "Nous allons maintenant exprimer ces deux propriétés."
   ]
  },
  {
   "cell_type": "markdown",
   "metadata": {
    "tags": []
   },
   "source": [
    "### a. Séparer les données"
   ]
  },
  {
   "cell_type": "markdown",
   "metadata": {},
   "source": [
    "\n",
    "\n",
    "La droite d'équation $\\langle a,x \\rangle + b= 0$ coupe l'espace en deux demi-espaces: les points qui vérifient $\\langle a,x \\rangle + b \\geq  0$ et ceux qui vérifient $\\langle a,x \\rangle + b \\leq 0$.\n",
    "Notre objectif est que chaque nuage (rouge et bleu) soit d'un seul côté de la droite. Il faut donc que\n",
    "- pour toute donnée $i$ telle que $y_i = +1$ (les points bleus donc), on ait $\\langle a,x_i \\rangle + b \\geq 0$,\n",
    "- pour toute donnée $i$ telle que $y_i = -1$ (les points rouges donc), on ait $\\langle a,x_i \\rangle + b \\leq 0$.\n",
    "\n",
    "Autrement dit, on veut que pour toute donnée $i$, $\\langle a,x_i \\rangle + b$ ait le même signe que $y_i$. Ce que l'on peut écrire de manière équivalente:\n",
    "\\begin{equation*}\n",
    "    (\\forall i=1,\\dots, m) \\quad y_i(\\langle a,x_i \\rangle + b) \\geq 0. \\tag{1}\n",
    "\\end{equation*}\n",
    "La propriété ci-dessus peut se réécrire comme une inégalité vectorielle $\\Phi w \\succeq 0$, pourvu qu'on introduise la bonne matrice $\\Phi$.\n",
    "En effet, si on rappelle que $w = (a,b)$ et que l'on définit $\\Phi$ par\n",
    "\\begin{equation*}\n",
    "    \\Phi :=\n",
    "    \\begin{pmatrix}\n",
    "        y_1 x_1^\\top & y_1 \\\\\n",
    "        \\vdots & \\vdots \\\\\n",
    "        y_i x_i^\\top & y_i \\\\\n",
    "        \\vdots & \\vdots \\\\\n",
    "        y_m x_m^\\top & y_m\n",
    "    \\end{pmatrix} \\in \\mathcal{M}_{m,3}(\\mathbb{R}),\n",
    "\\end{equation*}\n",
    "\n",
    "on voit que le produit entre la matrice $\\Phi$ et le vecteur $w$ vaut\n",
    "\n",
    "\n",
    "\n",
    "\\begin{eqnarray*}\n",
    "    & \n",
    "    & \n",
    "    \\begin{pmatrix}\n",
    "        a \\\\\n",
    "        b\n",
    "    \\end{pmatrix}\n",
    "    \\\\\n",
    "    \\Phi w = \n",
    "    &\n",
    "    \\begin{pmatrix}\n",
    "        y_1 x_1^\\top & y_1 \\\\\n",
    "        \\vdots & \\vdots \\\\\n",
    "        y_i x_i^\\top & y_i \\\\\n",
    "        \\vdots & \\vdots \\\\\n",
    "        y_m x_m^\\top & y_m\n",
    "    \\end{pmatrix} \n",
    "    & \n",
    "    \\begin{pmatrix}\n",
    "        y_1(\\langle a,x_1 \\rangle + b) \\\\\n",
    "        \\vdots  \\\\\n",
    "        y_i(\\langle a,x_i \\rangle + b) \\\\\n",
    "        \\vdots  \\\\\n",
    "        y_m(\\langle a,x_m \\rangle + b)\n",
    "    \\end{pmatrix},\n",
    "\\end{eqnarray*}\n",
    "\n",
    "et donc que la propriété (1) est équivalente à ce que tous les coefficients de $\\Phi w$ soient positifs, autrement dit, à ce que $\\Phi w \\succeq 0$. Noter que $\\Phi$ ne dépend que des données $x_i,y_i$ !\n",
    "\n",
    "**En résumé:** Une droite paramétrée par $w$ sépare bien les deux nuages si et seulement si $\\Phi w \\succeq 0$.\n",
    "\n",
    "\n"
   ]
  },
  {
   "cell_type": "markdown",
   "metadata": {
    "tags": []
   },
   "source": [
    "### b. Choisir la droite la plus éloignée des données"
   ]
  },
  {
   "cell_type": "markdown",
   "metadata": {
    "tags": []
   },
   "source": [
    "Supposons que l'on aie une droite $D_w$ d'équation $\\langle a,x \\rangle + b =0$, paramétrée par $w =(a,b)$.\n",
    "Etant donnée une donnée quelconque $x_i$, la distance entre cette donnée $x_i$ et la droite $D_w$ se note ${\\rm{dist}}~(x_i;D_w)$.\n",
    "Ainsi, la distance entre la droite $D_w$ et le point qui en est le plus proche est simplement le minimum de ces distances:\n",
    "$$\n",
    "\\min\\limits_{i=1,\\dots, m} \\ {\\rm{dist}}~(x_i;D_w).\n",
    "$$\n",
    "En d'autres termes, la quantité ci-dessus représente la distance entre la droite $D_w$ et le nuage de points formé par les données.\n",
    "\n",
    "Puisque notre objectif est de choisir la droite la plus **éloignée** des données, on veut donc maximiser cette distance aux données. Autrement dit, on veut trouver le paramètre $w = (a,b) \\in \\mathbb{R}^3$ qui maximise cette distance, tout en respectant la contrainte de bien séparer les données (cf. paragraphe précédent):\n",
    "\\begin{equation*}\n",
    "    {\\rm Résoudre} \n",
    "    \\quad \n",
    "    \\max\\limits_{w, \\ \\Phi w \\succeq 0} \\ \\min\\limits_{i=1,\\dots, m} \\ {\\rm{dist}}~(x_i;D_w), \n",
    "    \\quad \n",
    "    \\text{ où } D_w=\\{x \\in \\mathbb{R}^2 \\ | \\ \\langle a,x \\rangle + b =0 \\}.\n",
    "\\end{equation*}\n",
    "\n",
    "Ce problème a l'air difficile! Mais il est en fait possible de montrer qu'il est *équivalent* (on l'admet ici) à résoudre le problème suivant, qui est un peu plus sympatique:\n",
    "\\begin{equation*}\n",
    "    {\\rm Résoudre} \n",
    "    \\quad \n",
    "    \\min\\limits_{w=(a,b) \\in \\mathbb{R}^2 \\times \\mathbb{R}} \\ \\frac{1}{2} \\Vert a \\Vert^2, \n",
    "    \\quad \n",
    "    \\text{ sous la contrainte que } \\Phi w \\succeq e,\n",
    "    \\tag{P}\n",
    "\\end{equation*}\n",
    "où $e:=(1,\\dots,1)^\\top \\in \\mathbb{R}^m$.\n",
    "\n",
    "**En résumé:** Pour trouver une droite séparatrice optimale, il faut minimiser $\\Vert a \\Vert^2$ sous la contrainte que $w=(a,b)$ vérifie $\\Phi w \\succeq e$."
   ]
  },
  {
   "cell_type": "markdown",
   "metadata": {
    "tags": []
   },
   "source": [
    "### c. Le problème à résoudre : Support Vector Machine (SVM)"
   ]
  },
  {
   "cell_type": "markdown",
   "metadata": {},
   "source": [
    "Si on extrapole notre problème de séparer $m$ points dans $\\mathbb{R}^2$ à la séparation de $m$ points dans $\\mathbb{R}^n$, alors on se ramène à résoudre le problème d'optimisation quadratique convexe suivant (appelé SVM) : \n",
    "\\begin{equation*}\n",
    "    \\min\\limits_{w \\in \\mathbb{R}^{n+1}} \\ \\frac{1}{2} \\Vert Pw \\Vert^2, \n",
    "    \\quad \n",
    "    \\text{ sous la contrainte que } \\Phi w \\succeq e,\n",
    "    \\tag{P}\n",
    "\\end{equation*}\n",
    "où \n",
    "\n",
    "- $e:=(1,\\dots,1)^\\top \\in \\mathbb{R}^m$ \n",
    "- $P \\in \\mathcal{M}_{n+1}(\\mathbb{R})$ est la matrice de projection sur $F = \\{ w \\in \\mathbb{R}^{n+1} \\ | \\ w_{n+1}=0\\}$. Autrement dit $P$ projette sur les $n$ premières coordonnées, c-à-d $P= {\\rm{diag}}(1, \\dots, 1, 0)$.\n",
    "- $\\Phi \\in \\mathcal{M}_{m,n+1}(\\mathbb{R})$ est la matrice définie par\n",
    "\n",
    "\\begin{equation*}\n",
    "    \\Phi :=\n",
    "    \\begin{pmatrix}\n",
    "        y_1 x_1^\\top & y_1 \\\\\n",
    "        \\vdots & \\vdots \\\\\n",
    "        y_i x_i^\\top & y_i \\\\\n",
    "        \\vdots & \\vdots \\\\\n",
    "        y_m x_m^\\top & y_m\n",
    "    \\end{pmatrix}.\n",
    "\\end{equation*}\n",
    "\n",
    "- la solution $w \\in \\mathbb{R}^{n+1}$ s'écrit comme un couple $w=(a,b) \\in \\mathbb{R}^n \\times \\mathbb{R}$ qui va nous définir un hyperplan séparateur $\\{x \\in \\mathbb{R}^n \\ | \\ \\langle a,x \\rangle +b = 0 \\}$."
   ]
  },
  {
   "cell_type": "markdown",
   "metadata": {
    "tags": []
   },
   "source": [
    "# II. Résolution du problème : phase d'entraînement\n",
    "\n",
    "Dans cette partie, nous allons résoudre le problème (P) de trois manières différentes, dans les sections A,B et C.\n",
    "Ces trois sections sont de difficulté variable, mais indépendantes. Ceci étant dit, il est attendu que vous fassiez les trois."
   ]
  },
  {
   "cell_type": "markdown",
   "metadata": {},
   "source": [
    "**0)** Définir `e`, le vecteur $e:=(1,\\dots,1)^\\top \\in \\mathbb{R}^m$, ainsi que `Phi`, la matrice définie dans la section précédente. On rappelle que cette matrice ne dépend que de `X` et `Y`.\n",
    "\n",
    "On définira également `infini`, le vecteur $(+\\infty, \\dots, +\\infty) \\in \\mathbb{R}^m$, sachant que la quantité $+\\infty$ s'obtient avec `np.inf`.\n",
    "\n",
    "Faites bien attention, les objets définis ici vont vous servir tout au long du devoir. Il serait bête de faire une erreur à ce niveau."
   ]
  },
  {
   "cell_type": "code",
   "execution_count": 13,
   "metadata": {},
   "outputs": [],
   "source": [
    "e = np.ones(m)"
   ]
  },
  {
   "cell_type": "code",
   "execution_count": 14,
   "metadata": {},
   "outputs": [],
   "source": [
    "# On multiplie chaque ligne i de X par le scalaire i de Y \n",
    "X2 = np.copy(X)\n",
    "for i in range(m):\n",
    "    X2[i, :] = Y[i] * X2[i, :]"
   ]
  },
  {
   "cell_type": "code",
   "execution_count": 15,
   "metadata": {},
   "outputs": [],
   "source": [
    "phi = np.append(X2, Y.reshape(m, 1), axis = 1)"
   ]
  },
  {
   "cell_type": "code",
   "execution_count": 16,
   "metadata": {},
   "outputs": [],
   "source": [
    "infini = np.array([np.inf] * m)"
   ]
  },
  {
   "cell_type": "markdown",
   "metadata": {
    "tags": []
   },
   "source": [
    "## A. Résolution via un solver Python\n",
    "\n",
    "Ici nous allons simplement donner le problème à Python, qui dispose de certaines routines pour résoudre les problèmes d'optimisation. Toute la difficulté consiste en la mise en forme du problème dans une syntaxe que Python peut comprendre."
   ]
  },
  {
   "cell_type": "markdown",
   "metadata": {},
   "source": [
    "**1)** Définir une fonction `objectif` qui prend en entrée un vecteur $w=(a,b) \\in \\mathbb{R}^n \\times \\mathbb{R}$ et qui renvoie $\\Vert a \\Vert^2$."
   ]
  },
  {
   "cell_type": "code",
   "execution_count": 17,
   "metadata": {},
   "outputs": [],
   "source": [
    "def objectif(w):\n",
    "    a = w[0:len(w) - 1]\n",
    "    normSquared = (la.norm(a))**2\n",
    "    return normSquared"
   ]
  },
  {
   "cell_type": "markdown",
   "metadata": {},
   "source": [
    "**2)** On doit résoudre un problème d'optimisation sous contrainte. Pour cela, on va faire appel à la bibliothèque `scipy.optimize` qui peut faire cela pour nous. "
   ]
  },
  {
   "cell_type": "code",
   "execution_count": 18,
   "metadata": {},
   "outputs": [],
   "source": [
    "from scipy.optimize import LinearConstraint, minimize"
   ]
  },
  {
   "cell_type": "markdown",
   "metadata": {},
   "source": [
    "Tout d'abord on doit définir la contrainte $\\Phi w \\succeq e$. Il faut pour cela utiliser la fonction `LinearConstraint` qui permet de définir une contrainte de la forme\n",
    "$$\n",
    "\\{ w \\in \\mathbb{R}^d \\ | \\ a \\preceq \\Phi w \\preceq b \\}\n",
    "$$\n",
    "avec la commande `LinearConstraint(Phi, a, b)` (voir la [documentation](https://docs.scipy.org/doc/scipy/reference/generated/scipy.optimize.LinearConstraint.html#scipy.optimize.LinearConstraint) pour plus de détails). A vous de compléter la commande suivante, avec les objets définis à la question **1)**."
   ]
  },
  {
   "cell_type": "code",
   "execution_count": 19,
   "metadata": {},
   "outputs": [],
   "source": [
    "contrainte = LinearConstraint(phi, lb = e, ub = infini)"
   ]
  },
  {
   "cell_type": "markdown",
   "metadata": {},
   "source": [
    "**3)** On peut maintenant obtenir la solution de notre problème, en faisant appel à `scipy.optimize.minimize` (voir la [documentation](https://docs.scipy.org/doc/scipy/reference/generated/scipy.optimize.minimize.html) pour plus de détails)."
   ]
  },
  {
   "cell_type": "code",
   "execution_count": 20,
   "metadata": {},
   "outputs": [
    {
     "name": "stdout",
     "output_type": "stream",
     "text": [
      "[ 0.28079698  0.39552846 -0.03898827]\n"
     ]
    }
   ],
   "source": [
    "w_sol_scipy = minimize(                       # minimiser\n",
    "                    fun = objectif,           # la fonction 'objectif'\n",
    "                    constraints = contrainte, # sous la contrainte 'contrainte'\n",
    "                    x0 = np.random.randn(3),  # en partant d'un point initial\n",
    "                    ).x                       # et donne-moi le vecteur solution\n",
    "print(w_sol_scipy)"
   ]
  },
  {
   "cell_type": "markdown",
   "metadata": {},
   "source": [
    "**4)** Reprendre le code de la partie **I.1**, pour afficher les nuages de points ainsi que la droite définie par le paramètre $w_{sol-scipy} \\in \\mathbb{R}^3$ que vous venez d'obtenir. Êtes-vous satisfait$\\cdot$e de la solution obtenue?"
   ]
  },
  {
   "cell_type": "code",
   "execution_count": 21,
   "metadata": {},
   "outputs": [
    {
     "data": {
      "image/png": "[encoded data removed]",
      "text/plain": [
       "<Figure size 432x288 with 1 Axes>"
      ]
     },
     "metadata": {
      "needs_background": "light"
     },
     "output_type": "display_data"
    }
   ],
   "source": [
    "trace_droite(w_sol_scipy)\n",
    "_=plt.scatter(X[:, 0], X[:, 1], c=couleur)"
   ]
  },
  {
   "cell_type": "markdown",
   "metadata": {},
   "source": [
    "La solution obtenue semble être satisfaisante. Intuitivement, on voit bien que la droite sépare bien les deux nuages de points. Elle semble de plus bien éloignée des deux nuages."
   ]
  },
  {
   "cell_type": "markdown",
   "metadata": {
    "tags": []
   },
   "source": [
    "## B. Résolution via le problème dual et la méthode du gradient projeté"
   ]
  },
  {
   "cell_type": "markdown",
   "metadata": {},
   "source": [
    "Ici nous allons nous intérésser à (D), le problème dual de (P) au sens de Rockafellar. Dans un premier temps nous allons calculer ce problème dual. Dans un second temps, nous allons voir qu'il a une structure plus simple, le rendant facile à résoudre.\n",
    "Dans un troisième temps, nous allons résoudre (D) avec la méthode du gradient projeté, puis retrouver une solution du problème primal (P)."
   ]
  },
  {
   "cell_type": "markdown",
   "metadata": {
    "tags": []
   },
   "source": [
    "### 1. Calcul du problème dual"
   ]
  },
  {
   "cell_type": "markdown",
   "metadata": {},
   "source": [
    "**1)** 📝 Montrer que le problème (P) peut s'écrire sous la forme \n",
    "\\begin{equation*}\n",
    "    \\min\\limits_{w \\in \\mathbb{R}^{n+1}} \\ f(w) + g(\\Phi w), \n",
    "    \\tag{P}\n",
    "\\end{equation*}\n",
    "où\n",
    "- $f$ est une fonction quadratique semi définie positive,\n",
    "- $g = I_C$ est la fonction indicatrice de $C$, un ensemble convexe fermé non vide."
   ]
  },
  {
   "cell_type": "markdown",
   "metadata": {},
   "source": [
    "**2)** 📝 D'après la dualité de Fenchel-Rockafellar, le problème dual de (P) consiste à résoudre\n",
    "\\begin{equation*}\n",
    "    \\min\\limits_{\\alpha \\in \\mathbb{R}^M} \\ f^* (\\Phi^\\top \\alpha) + g^* (-\\alpha), \n",
    "    \\tag{D}\n",
    "\\end{equation*}\n",
    "Vous devrez:\n",
    "\n",
    "- Calculer la conjuguée de Fenchel $f^*$. Pour cela vous utiliserez un résultat de la feuille de TD6.\n",
    "- Calculer la conjuguée de Fenchel $g^*$. Vous utiliserez les résultats du cours et de la feuille de TD6 pour montrer que \n",
    "\\begin{equation*}\n",
    "    g^*(-\\alpha) = I_K(\\alpha) - \\langle e, \\alpha \\rangle,\n",
    "\\end{equation*}\n",
    "où $K$ est un cône convexe fermé (très sympatique) contenant $0$."
   ]
  },
  {
   "cell_type": "markdown",
   "metadata": {},
   "source": [
    "**3)** 📝 Conclure que le problème dual s'écrit\n",
    "\n",
    "\\begin{equation*}\n",
    "    \\min\\limits_{\\alpha \\in \\mathbb{R}^M} \\ h(\\alpha), \n",
    "    \\quad \n",
    "    \\text{ sous la contrainte que } \\alpha \\in K \\text{ et } \\langle y,\\alpha \\rangle =0,\n",
    "    \\tag{D}\n",
    "\\end{equation*}\n",
    "où $h$ est une fonction convexe quadratique."
   ]
  },
  {
   "cell_type": "markdown",
   "metadata": {
    "tags": []
   },
   "source": [
    "### 2. Définition de la projection"
   ]
  },
  {
   "cell_type": "markdown",
   "metadata": {},
   "source": [
    "\n",
    "\n",
    "Ici on s'intéresse à la projection sur la contrainte duale\n",
    "$$D:= \\{ \\alpha \\in \\mathbb{R}^M \\ | \\ \\alpha \\in K \\text{ et } \\langle y,\\alpha \\rangle =0\\},$$\n",
    "où $K$ est le cône simple que vous avez obtenu à la section précédente."
   ]
  },
  {
   "cell_type": "markdown",
   "metadata": {},
   "source": [
    "**1)** Définir une fonction `proj_K` qui prend en entrée un vecteur `alpha` et renvoie en sortie la projection de $a$ sur $K$."
   ]
  },
  {
   "cell_type": "code",
   "execution_count": 22,
   "metadata": {},
   "outputs": [],
   "source": [
    "def proj_K(alpha):\n",
    "    proj = np.zeros(m) # On crée un vecteur nul de R^m\n",
    "    for i in range(m):\n",
    "        if alpha[i] > 0:\n",
    "            proj[i] = alpha[i]\n",
    "    return proj"
   ]
  },
  {
   "cell_type": "markdown",
   "metadata": {},
   "source": [
    "**2)** Définir une fonction `proj_H` qui prend en entrée un vecteur `alpha` et le vecteur `y` et renvoie en sortie la projection sur l'hyperplan défini par\n",
    "$$H := \\{ \\alpha \\in \\mathbb{R}^M \\ | \\ \\langle y, \\alpha \\rangle =0 \\}.$$\n",
    "Pour ce faire, vous chercherez (à la main ou sur internet) comment calculer la projection sur un Hyperplan."
   ]
  },
  {
   "cell_type": "code",
   "execution_count": 23,
   "metadata": {},
   "outputs": [],
   "source": [
    "def proj_H(alpha, y):\n",
    "    # Y est orthogonal à H\n",
    "    projAlphaOnY = ((np.dot(alpha, y)) / (la.norm(y)**2)) * y\n",
    "    return alpha - projAlphaOnY"
   ]
  },
  {
   "cell_type": "markdown",
   "metadata": {},
   "source": [
    "**3)** Définir une fonction `proj_D_approx` qui \n",
    "\n",
    "- prend en entrée un vecteur `alpha` et le vecteur `y`\n",
    "- renvoie en sortie une approximation de la projection sur $D = K \\cap H$\n",
    "\n",
    "Pour calculer cette projection, vous allez utiliser la méthode de **projection de Dijkstra** sur une dizaine d'itérations.\n",
    "Elle se définit via des projections alternées sur $D$ et $K$, comme suit:\n",
    "\n",
    "| Projection de Dijkstra |\n",
    "|-|\n",
    "| On veut projeter $\\alpha$ sur $K\\cap H$ |\n",
    "| On initialise $x_0=\\alpha$, et $h_0=p_0=q_0=0$, puis pour $k \\geq 0$: | \n",
    "| \\begin{eqnarray*} h_{k+1} & = & {\\rm{proj}}_H(x_k+p_k) \\\\ p_{k+1} &=& x_k + p_k - h_{k+1} \\\\ x_{k+1} &=& {\\rm{proj}}_K( h_{k+1} + q_k) \\\\ q_{k+1} &=& h_{k+1} + q_k - x_{k+1} \\end{eqnarray*} |\n",
    "| **Théorème:** $x_k \\to {\\rm{proj}}_{K\\cap H}(\\alpha)$ |"
   ]
  },
  {
   "cell_type": "code",
   "execution_count": 24,
   "metadata": {},
   "outputs": [],
   "source": [
    "def proj_D_approx(alpha, y):\n",
    "    x_k = alpha\n",
    "    h_k = np.zeros(len(y))\n",
    "    p_k = np.zeros(len(y))\n",
    "    q_k = np.zeros(len(y))\n",
    "    for i in range(15):\n",
    "        h_k = proj_H(x_k + p_k, y)\n",
    "        p_k = x_k + p_k - h_k\n",
    "        x_k = proj_K(h_k + q_k)\n",
    "        q_k = h_k + q_k - x_k\n",
    "    return x_k"
   ]
  },
  {
   "cell_type": "markdown",
   "metadata": {},
   "source": [
    "**4)** On va ici implémenter une alternative à la méthode de projection approchée de la question précédente avec la **projection de Kiwiel**. Cette dernière s'effectue avec la fonction `proj_kiwiel` (importée ci-dessous), qui:\n",
    "\n",
    "- projette un vecteur $\\alpha$ sur une intersection $K \\cap H$ \n",
    "   - où $H$ est un hyperplan $H = \\{ \\alpha \\in \\mathbb{R}^M \\ | \\ \\langle y, \\alpha \\rangle =0 \\}$\n",
    "   - où $K$ est un ensemble défini par $K = \\{ \\alpha \\in \\mathbb{R}^M \\ | \\ \\ell \\preceq \\alpha \\preceq u \\}$\n",
    "     - ici les bornes $\\ell, u \\in \\mathbb{R}^M$ peuvent prendre des valeurs $\\pm \\infty$\n",
    "- prend en entrée `proj_kiwiel(alpha, y, l, u)` où $\\alpha$ est le vecteur à projeter, $y$ le vecteur définissant l'hyperplan $H$, et $\\ell,u$ sont les (lower et upper) bornes définissant $K$.\n",
    "- renvoie en sortie la projection de $\\alpha$ sur $K \\cap H$.\n",
    "\n",
    "Votre travail ici consiste à définir une fonction `proj_D` qui prend en entrée un vecteur `alpha`, le vecteur `y`, et renvoie la projection de $\\alpha$ sur $D$.\n",
    "Pour ce faire, vous définirez les bornes `l` et `u` qui définissent $K$, et vous appliquerez la projection de Kiwiel."
   ]
  },
  {
   "cell_type": "code",
   "execution_count": 25,
   "metadata": {},
   "outputs": [],
   "source": [
    "from kiwiel import proj_kiwiel"
   ]
  },
  {
   "cell_type": "code",
   "execution_count": 26,
   "metadata": {},
   "outputs": [],
   "source": [
    "def proj_D(alpha, y):\n",
    "    inf = np.array([np.inf] * len(y))\n",
    "    zero = np.zeros(len(y))\n",
    "    return proj_kiwiel(alpha, y, zero, inf)"
   ]
  },
  {
   "cell_type": "markdown",
   "metadata": {},
   "source": [
    "**5)** Prendre un vecteur $\\alpha \\in \\mathbb{R}^M$ quelconque, et comparer les projections `proj_D_approx` et `proj_D`. Vous regarderez notamment si le vecteur projeté vérifie bien les contraintes $K \\cap H$."
   ]
  },
  {
   "cell_type": "markdown",
   "metadata": {},
   "source": [
    "Je rappelle que $K = \\mathbb{R}_+^m$ et que $H = \\{ \\alpha \\in \\mathbb{R}^m \\ | \\ \\langle Y, \\alpha \\rangle =0 \\}$, où $Y$ est le vecteur des étiquettes défini au début du TP."
   ]
  },
  {
   "cell_type": "code",
   "execution_count": 27,
   "metadata": {},
   "outputs": [],
   "source": [
    "alpha = np.random.randint(-100, 100, 200)"
   ]
  },
  {
   "cell_type": "code",
   "execution_count": 28,
   "metadata": {},
   "outputs": [],
   "source": [
    "proj_approx = proj_D_approx(alpha, Y)"
   ]
  },
  {
   "cell_type": "code",
   "execution_count": 29,
   "metadata": {},
   "outputs": [],
   "source": [
    "proj = proj_D(alpha, Y)"
   ]
  },
  {
   "cell_type": "markdown",
   "metadata": {},
   "source": [
    "Pour comparer ces deux vecteurs, on peut calculer une sorte d'erreur résiduelle (comme dans le cadre d'une regression linéaire par exemple):"
   ]
  },
  {
   "cell_type": "code",
   "execution_count": 30,
   "metadata": {},
   "outputs": [
    {
     "name": "stdout",
     "output_type": "stream",
     "text": [
      "7.138710542105992e-05\n"
     ]
    }
   ],
   "source": [
    "import math\n",
    "err = math.sqrt(sum((proj - proj_approx)**2) / (m-1))\n",
    "print(err)"
   ]
  },
  {
   "cell_type": "markdown",
   "metadata": {},
   "source": [
    "Cette erreur est extrêmement petite. L'approximation de la projection est très bonne.\n",
    "Regardons maintenant si le vecteur projeté vérifie bien la contrainte $K \\cap H$."
   ]
  },
  {
   "cell_type": "code",
   "execution_count": 31,
   "metadata": {},
   "outputs": [
    {
     "name": "stdout",
     "output_type": "stream",
     "text": [
      "Le projeté est bien dans K = (R_+)^m\n",
      "<proj, Y> =  3.410605131648481e-13\n"
     ]
    }
   ],
   "source": [
    "# On regarde d'abord si proj >= 0\n",
    "if all(proj[i] >= 0 for i in range(m)):\n",
    "    print(\"Le projeté est bien dans K = (R_+)^m\")\n",
    "else:\n",
    "    print(\"Le projeté n'est pas dans K\")\n",
    "    \n",
    "# On regarde ensuite si proj est dans H (<Y, proj> = 0)\n",
    "print(\"<proj, Y> = \", np.dot(Y, proj))"
   ]
  },
  {
   "cell_type": "markdown",
   "metadata": {},
   "source": [
    "La valeur du produit scalaire $\\langle Y, proj \\rangle$ est si petite, qu'on peut considérer qu'elle est égale à $0$. Donc $proj$ est bien dans $K \\cap H$."
   ]
  },
  {
   "cell_type": "markdown",
   "metadata": {
    "tags": []
   },
   "source": [
    "### 3. Méthode du gradient projeté"
   ]
  },
  {
   "cell_type": "markdown",
   "metadata": {},
   "source": [
    "La méthode du gradient projeté permet de résoudre un problème de la forme \n",
    "$$ \\min f(x), x \\in C$$\n",
    "L'algorithme s'écrit \n",
    "\n",
    "| | | |\n",
    "|-|-|-|\n",
    "|| On choisit $x_0$ un vecteur de $\\mathbb{R}^N$ et $\\rho > 0$ un pas fixe. | \n",
    "|  | Pour $k\\geq 0$ : $\\qquad \\qquad \\, $   $x_{k+1}$  = ${\\rm{proj}}_C(x_k - \\rho \\nabla f(x_k))$  | \n",
    "\n",
    "L'algorithme est garanti de converger si $f$ est convexe, de classe $C^1$, avec un gradient $L$-Lipschitzien, et un pas $\\rho \\in ]0,2/L[$."
   ]
  },
  {
   "cell_type": "markdown",
   "metadata": {},
   "source": [
    "**1)** 📝 Vérifier que les hypothèses ci-dessus sont vérifiées pour le problème dual (D). En particulier, vous calculerez $\\nabla h$, et vous définirez sa constante de Lipschitz `L`."
   ]
  },
  {
   "cell_type": "code",
   "execution_count": 32,
   "metadata": {},
   "outputs": [],
   "source": [
    "L = la.norm(phi @ np.transpose(phi))"
   ]
  },
  {
   "cell_type": "markdown",
   "metadata": {},
   "source": [
    "**2)** Définir une fonction `FB_dual` qui résoud le problème dual (D) en:\n",
    "\n",
    "- prenant en entrée la matrice `Phi`, un pas `rho`, un nombre d'itérations `nb_iter`\n",
    "- résolvant le problème dual en appliquant la méthode du gradient projeté :\n",
    "  - en initialisant les itérés en $0 \\in \\mathbb{R}^m$\n",
    "  - avec un pas `rho`\n",
    "  - en réalisant la projection sur $D$ avec une fonction définie dans la section précédente (de votre choix)\n",
    "  - pendant un nombre d'itérations égal à `nb_iter`\n",
    "- retournant en sortie le dernier itéré calculé "
   ]
  },
  {
   "cell_type": "code",
   "execution_count": 33,
   "metadata": {},
   "outputs": [],
   "source": [
    "def FB_dual(Phi, rho, nb_iter):\n",
    "    x_k = np.zeros(m)\n",
    "    for i in range(nb_iter):\n",
    "        x_k = proj_D(x_k - (rho * (((Phi @ np.transpose(Phi)) @ x_k) - e)), Y)\n",
    "    return x_k"
   ]
  },
  {
   "cell_type": "markdown",
   "metadata": {},
   "source": [
    "**3)** Trouver `alpha_sol_GPD` une solution approchée au problème dual (D)."
   ]
  },
  {
   "cell_type": "code",
   "execution_count": 34,
   "metadata": {},
   "outputs": [],
   "source": [
    "alpha_sol_GPD = FB_dual(phi, 1/L, 10000)"
   ]
  },
  {
   "cell_type": "markdown",
   "metadata": {},
   "source": [
    "**4)** 📝 D'après la caractérisation des solutions du problème primal-dual vu en cours, on sait que la solution $w$ du problème primal est liée à la solution $\\alpha$ du problème dual via l'inclusion $w \\in \\partial f^*(\\Phi^\\top \\alpha)$.\n",
    "Montrer que ceci implique que $\\Phi^\\top \\alpha$ peut s'écrire   $\\Phi^\\top \\alpha= (a,0)$ où $a \\in \\mathbb{R}^n$, et que $w=(a,b)$ pour un certain $b$ à déterminer."
   ]
  },
  {
   "cell_type": "markdown",
   "metadata": {},
   "source": [
    "\n",
    "\n",
    "**5)** Vous vérifierez numériquement que la dernière coordonnée de $\\Phi^\\top \\alpha$ est bien nulle. Définissez `a`."
   ]
  },
  {
   "cell_type": "code",
   "execution_count": 35,
   "metadata": {},
   "outputs": [
    {
     "name": "stdout",
     "output_type": "stream",
     "text": [
      "[0.28657408 0.38892638 0.        ]\n"
     ]
    }
   ],
   "source": [
    "print(np.transpose(phi) @ alpha_sol_GPD)"
   ]
  },
  {
   "cell_type": "markdown",
   "metadata": {},
   "source": [
    "La dernière coordonnée est bien nulle."
   ]
  },
  {
   "cell_type": "code",
   "execution_count": 36,
   "metadata": {},
   "outputs": [],
   "source": [
    "w_sol_grad_proj = np.array(np.transpose(phi) @ alpha_sol_GPD)\n",
    "a = np.array(w_sol_grad_proj[:2])"
   ]
  },
  {
   "cell_type": "markdown",
   "metadata": {},
   "source": [
    "**6)** On admet par la suite que l'on peut prendre $b=0$, c-à-d que $w = \\Phi^\\top \\alpha$ est solution de notre problème primal (P). Reprendre le code de la partie **I.1**, pour afficher les nuages de points ainsi que la droite définie par le paramètre $w \\in \\mathbb{R}^3$ que vous venez d'obtenir. Êtes-vous satisfait$\\cdot$e de la solution obtenue?"
   ]
  },
  {
   "cell_type": "code",
   "execution_count": 37,
   "metadata": {
    "scrolled": true
   },
   "outputs": [
    {
     "data": {
      "image/png": "[encoded data removed]",
      "text/plain": [
       "<Figure size 432x288 with 1 Axes>"
      ]
     },
     "metadata": {
      "needs_background": "light"
     },
     "output_type": "display_data"
    }
   ],
   "source": [
    "trace_droite(w_sol_grad_proj)\n",
    "_=plt.scatter(X[:, 0], X[:, 1], c=couleur)"
   ]
  },
  {
   "cell_type": "markdown",
   "metadata": {},
   "source": [
    "Encore une fois, la droite obtenue est satisfaisante: elle semble assez éloignée des deux nuages de points (et elle les sépare bien). On constate de plus que `w_sol_grad_proj` et `w_sol_scipy` sont très proches."
   ]
  },
  {
   "cell_type": "code",
   "execution_count": 38,
   "metadata": {},
   "outputs": [
    {
     "name": "stdout",
     "output_type": "stream",
     "text": [
      "[ 0.28079698  0.39552846 -0.03898827]\n"
     ]
    }
   ],
   "source": [
    "print(w_sol_scipy)"
   ]
  },
  {
   "cell_type": "code",
   "execution_count": 39,
   "metadata": {},
   "outputs": [
    {
     "name": "stdout",
     "output_type": "stream",
     "text": [
      "[0.28657408 0.38892638 0.        ]\n"
     ]
    }
   ],
   "source": [
    "print(w_sol_grad_proj)"
   ]
  },
  {
   "cell_type": "markdown",
   "metadata": {},
   "source": [
    "## C. Résolution via une méthode primale-duale"
   ]
  },
  {
   "cell_type": "markdown",
   "metadata": {},
   "source": [
    "Dans cette section, l'objectif est que vous soyez plus autonomes. Nous vous fournissons un algorithme, un théorème, et vous devez vous en servir pour trouver une solution aux problèmes (P) et (D). A vous de vérifier (et de nous convaincre) que votre code fonctionne et vous fournit une solution satisfaisante."
   ]
  },
  {
   "cell_type": "markdown",
   "metadata": {},
   "source": [
    "On introduit l'algorithme de **Loris-Verhoeven**, qui est une généralisation de la méthode du gradient proximal, qui s'applique à la minimisation d'une fonction de la forme $f(x) + g(Ax)$:\n",
    "\n",
    "| L'algorithme de **Loris-Verhoeven** |\n",
    "| --- |\n",
    "| Soient $x_0 \\in \\mathbb{R}^n, \\alpha_0 \\in \\mathbb{R}^m$, $\\rho, \\sigma >0$ |\n",
    "| \\begin{eqnarray*} \\hat x_{k+1} &=& x_k - \\rho \\nabla f(x_k) \\\\ \\hat \\alpha_{k+1} &=& \\alpha_k - \\rho \\sigma AA^\\top \\alpha_k \\\\ \\alpha_{k+1} &=& \\hat \\alpha_{k+1} - \\sigma A \\hat x_{k+1} + \\sigma {\\rm prox}_{\\frac{1}{\\sigma}g}\\left(A\\hat x_{k+1} - \\frac{1}{\\sigma} \\hat \\alpha_{k+1}\\right) \\\\  x_{k+1} &=& \\hat x_{k+1} + \\rho A^\\top \\alpha_{k+1} \\end{eqnarray*} |"
   ]
  },
  {
   "cell_type": "markdown",
   "metadata": {},
   "source": [
    "**Théorème:** Soient $f : \\mathbb{R}^n \\to \\mathbb{R}$ une fonction différentiable à gradient $L$-Lipschitzien,  $g : \\mathbb{R}^m \\to \\mathbb{R}\\cup\\{+\\infty\\}$ une fonction convexe s.c.i. propre, et $A \\in \\mathcal{M}_{m,n}(\\mathbb{R})$.\n",
    "Soit $(x_k,\\alpha_k)_{k \\in \\mathbb{N}}$ une suite générée par l'algorithme de Loris-Verhoeven, avec\n",
    "$$ \\rho \\in \\left]0, \\frac{2}{L}\\right[ \\quad \\text{ et } \\quad \\sigma \\in \\left]0, \\frac{1}{\\rho \\Vert A \\Vert^2}\\right].$$\n",
    "Alors \n",
    "- $x_k$ converge vers un minimiseur de $f + g \\circ A$, s'il en existe,\n",
    "- $\\alpha_k$ converge vers un minimiseur de $f^* \\circ A^\\top + g^* \\circ -Id$ s'il en existe."
   ]
  },
  {
   "cell_type": "markdown",
   "metadata": {},
   "source": [
    "Voir la justification de l'utilisation de l'algorithme à la page 6 du PDF fourni avec ce notebook"
   ]
  },
  {
   "cell_type": "code",
   "execution_count": 40,
   "metadata": {},
   "outputs": [],
   "source": [
    "# retourne la matrice diagonale diag(1, 1, ..., 1, 0) de taille k*k\n",
    "def createP(k):\n",
    "    diag = np.ones(k)\n",
    "    diag[k - 1] = 0\n",
    "    return np.diag(diag)"
   ]
  },
  {
   "cell_type": "code",
   "execution_count": 41,
   "metadata": {},
   "outputs": [],
   "source": [
    "# retourne la norme d'une matrice P. Sert pour trouver une constante de Lipschitz d'une fonction de la forme\n",
    "# x -> 1/2 ||Px||^2 pour une certaine matrice P\n",
    "def normP(P):\n",
    "    return la.norm(P)"
   ]
  },
  {
   "cell_type": "markdown",
   "metadata": {},
   "source": [
    "Pour calculer $prox_{\\frac{1}{\\sigma} g}$ en un point $x$, on peut se servir de se qui est écrit `page 7` du PDF. On a trouvé que $prox_{\\frac{1}{\\sigma} g}(x) = \\pi_C(x) = \\pi_{(\\mathbb{R}_+)^m}(x) + e$, où $\\pi_C(x)$ est la projection de $x$ sur $C$ et $\\pi_{(\\mathbb{R}_+)^m}(x)$ est la projection de $x$ sur $(\\mathbb{R}_+)^m$. Pour calculer $prox_{\\frac{1}{\\sigma} g}$, on peut donc se servir de la fonction `proj_K` définie plus haut."
   ]
  },
  {
   "cell_type": "code",
   "execution_count": 42,
   "metadata": {},
   "outputs": [],
   "source": [
    "# retourne le prox de la fonction (1/sigma) * g\n",
    "def prox_g(x):\n",
    "    return proj_K(x) + e"
   ]
  },
  {
   "cell_type": "code",
   "execution_count": 43,
   "metadata": {},
   "outputs": [],
   "source": [
    "# Calcule le gradient de la fonction f définie par f(x) = 1/2 ||Px||^2 pour une certaine matrice P\n",
    "def grad_f(P, x):\n",
    "    return P @ x"
   ]
  },
  {
   "cell_type": "code",
   "execution_count": 44,
   "metadata": {},
   "outputs": [],
   "source": [
    "def LorisVerhoeven(Phi, rho, sigma, nb_iter, P):\n",
    "    x_k = np.random.randn(Phi.shape[1])\n",
    "    alpha_k = np.random.randn(Phi.shape[0])\n",
    "    for i in range(nb_iter):\n",
    "        x_k_hat = x_k - rho * grad_f(P, x_k)\n",
    "        alpha_k_hat = alpha_k - rho * sigma * Phi @ np.transpose(Phi) @ alpha_k\n",
    "        alpha_k = alpha_k_hat - sigma * Phi @ x_k_hat + sigma * prox_g(Phi @ x_k_hat - (1/sigma) * alpha_k_hat)\n",
    "        x_k = x_k_hat + rho * np.transpose(Phi) @ alpha_k\n",
    "    return (x_k, alpha_k)"
   ]
  },
  {
   "cell_type": "code",
   "execution_count": 45,
   "metadata": {},
   "outputs": [],
   "source": [
    "P = createP(3)\n",
    "L_grad_f = la.norm(P) # Constante de Lipschitz pour le gradient de f\n",
    "rho = 1 / L_grad_f\n",
    "sigma = (1/2) * (1/(rho * la.norm(phi)**2))"
   ]
  },
  {
   "cell_type": "code",
   "execution_count": 46,
   "metadata": {},
   "outputs": [],
   "source": [
    "(w_sol_LV, alpha_sol_LV) = LorisVerhoeven(phi, rho, sigma, 10000, P)"
   ]
  },
  {
   "cell_type": "code",
   "execution_count": 47,
   "metadata": {},
   "outputs": [
    {
     "data": {
      "image/png": "[encoded data removed]",
      "text/plain": [
       "<Figure size 432x288 with 1 Axes>"
      ]
     },
     "metadata": {
      "needs_background": "light"
     },
     "output_type": "display_data"
    }
   ],
   "source": [
    "trace_droite(w_sol_LV)\n",
    "_=plt.scatter(X[:, 0], X[:, 1], c=couleur)"
   ]
  },
  {
   "cell_type": "markdown",
   "metadata": {},
   "source": [
    "La solution de problème `(P)` fournie par l'algorithme de Loris-Verhoeven semble encore une fois satisfaisante. On remarque d'ailleurs que `w_sol_LV` est très proche de `w_sol_scipy`."
   ]
  },
  {
   "cell_type": "code",
   "execution_count": 48,
   "metadata": {},
   "outputs": [
    {
     "name": "stdout",
     "output_type": "stream",
     "text": [
      "[ 0.28079698  0.39552846 -0.03898827]\n"
     ]
    }
   ],
   "source": [
    "print(w_sol_scipy)"
   ]
  },
  {
   "cell_type": "code",
   "execution_count": 49,
   "metadata": {},
   "outputs": [
    {
     "name": "stdout",
     "output_type": "stream",
     "text": [
      "[ 0.29958131  0.3821437  -0.03598183]\n"
     ]
    }
   ],
   "source": [
    "print(w_sol_LV)"
   ]
  },
  {
   "cell_type": "code",
   "execution_count": 50,
   "metadata": {},
   "outputs": [
    {
     "name": "stdout",
     "output_type": "stream",
     "text": [
      "[ 2.99581274e-01  3.82143790e-01 -1.75881678e-04]\n"
     ]
    }
   ],
   "source": [
    "print(np.transpose(phi) @ alpha_sol_LV)"
   ]
  },
  {
   "cell_type": "markdown",
   "metadata": {
    "tags": []
   },
   "source": [
    "# III. Classifier des images"
   ]
  },
  {
   "cell_type": "markdown",
   "metadata": {
    "tags": []
   },
   "source": [
    "## 1. Obtention des données : Importer le jeu de données MNIST\n",
    "\n",
    "On va résoudre un problème similaire, sauf que cette fois les données ne sont plus des points $x_i \\in \\mathbb{R}^2$ rouges ou bleus, mais des images $x_i \\in \\mathbb{R}^{64}$ de chiffres écrits à la main.\n",
    "On ne parlera donc plus de \"droite séparatrice\" mais d'\"hyperplan séparateur\".\n",
    "\n",
    "| Un nouveau jeu de données | \n",
    "| ----------- |\n",
    "| ![](images/mnist.jpg) |\n",
    "| Chaque image de $8\\times 8$ pixels est représentée par un point $x_i \\in \\mathbb{R}^{64}$ |\n",
    "\n",
    "Pour ce TP on va se contenter de séparer des images de 0 et de 1. Leurs étiquettes $y_i$ prendront respectivement les valeurs $-1$ et $+1$.\n",
    "\n"
   ]
  },
  {
   "cell_type": "code",
   "execution_count": 51,
   "metadata": {},
   "outputs": [],
   "source": [
    "import sklearn.datasets\n",
    "import sklearn.model_selection"
   ]
  },
  {
   "cell_type": "code",
   "execution_count": 52,
   "metadata": {},
   "outputs": [],
   "source": [
    "# paramètres pour l'affichage des images de nombres\n",
    "plt.rcParams['xtick.bottom'] = False\n",
    "plt.rcParams['ytick.left'] = False\n",
    "plt.rcParams['xtick.labelbottom'] = False\n",
    "plt.rcParams['ytick.labelleft'] = False\n",
    "plt.rcParams['image.cmap'] = 'gray_r'"
   ]
  },
  {
   "cell_type": "code",
   "execution_count": 53,
   "metadata": {},
   "outputs": [],
   "source": [
    "# importe les données\n",
    "digits = sklearn.datasets.load_digits() # Importe un jeu de données à classer (10 classes)\n",
    "digits.data = digits.data*1/np.max(digits.data) # normalise : coeffs dans [0,1]\n",
    "classes = [0, 1] # Définit les 2 classes de nombres avec lesquelles on va travailler\n",
    "idx_classes = np.logical_or(digits.target == classes[0], digits.target == classes[1]) # Localise les deux classes ..\n",
    "digits.data = digits.data[idx_classes] # .. les extrait ..\n",
    "digits.target = digits.target[idx_classes] # .. et jette le reste\n",
    "digits.target = np.where(digits.target==classes[0],-1, 1) # Transforme les étiquettes de classes en {-1,+1}\n",
    "\n",
    "X, X_test, Y, Y_test = sklearn.model_selection.train_test_split( # On coupe le jeu de données en deux\n",
    "                        digits.data, digits.target, train_size=25, shuffle=True)"
   ]
  },
  {
   "cell_type": "code",
   "execution_count": 54,
   "metadata": {},
   "outputs": [
    {
     "data": {
      "image/png": "[encoded data removed]",
      "text/plain": [
       "<Figure size 216x216 with 25 Axes>"
      ]
     },
     "metadata": {},
     "output_type": "display_data"
    }
   ],
   "source": [
    "# Affiche les 25 premières images de X\n",
    "fig, axs = plt.subplots(5, 5, figsize=(3, 3))\n",
    "for i in range(5):\n",
    "    for j in range(5):\n",
    "        k = i*5 + j\n",
    "        _ = axs[i,j].imshow(X[k].reshape(8,8))\n",
    "plt.subplots_adjust(wspace=0, hspace=0)"
   ]
  },
  {
   "cell_type": "markdown",
   "metadata": {},
   "source": [
    "**1)** On dispose de données `X`, qui contient des images de 0 et 1 écrits à la main. Plus précisément, pour tout `k`, `X[k]` représente une telle image 2D (8x8 pixels) qui a été aplatie en un vecteur 1D.\n",
    "\n",
    "Utiliser `.shape` pour déterminer le nombre d'images que contient `X`.\n",
    "\n",
    "Prendre une image au hasard, et l'afficher avec la fonction `plt.imshow()`. Afin de l'afficher, vous aurez besoin de temporairement remettre cette image sous forme 2D avec la méthode `.reshape(nb_lignes, nb_colonnes)` . Est-ce l'image d'un 0 ou d'un 1?"
   ]
  },
  {
   "cell_type": "code",
   "execution_count": 55,
   "metadata": {},
   "outputs": [
    {
     "name": "stdout",
     "output_type": "stream",
     "text": [
      "(25, 64)\n"
     ]
    }
   ],
   "source": [
    "print(X.shape)"
   ]
  },
  {
   "cell_type": "markdown",
   "metadata": {},
   "source": [
    "X contient 25 images"
   ]
  },
  {
   "cell_type": "code",
   "execution_count": 56,
   "metadata": {
    "scrolled": true
   },
   "outputs": [
    {
     "data": {
      "text/plain": [
       "<matplotlib.image.AxesImage at 0x7fcab2c5bc10>"
      ]
     },
     "execution_count": 56,
     "metadata": {},
     "output_type": "execute_result"
    },
    {
     "data": {
      "image/png": "[encoded data removed]",
      "text/plain": [
       "<Figure size 432x288 with 1 Axes>"
      ]
     },
     "metadata": {},
     "output_type": "display_data"
    }
   ],
   "source": [
    "plt.imshow(X[16].reshape(8, 8))"
   ]
  },
  {
   "cell_type": "markdown",
   "metadata": {},
   "source": [
    "**2)** On dispose d'étiquettes `Y` qui encodent la nature des images contenues dans `X`. Plus précisément, `Y[k]` contient `-1` si `X[k]` est l'image d'un 0, ou `+1` si `X[k]` est l'image d'un 1.\n",
    "\n",
    "Reconsidérer l'image affichée à la question précédente, et vérifier que son étiquette correspond à ce que vous avez observé."
   ]
  },
  {
   "cell_type": "code",
   "execution_count": 57,
   "metadata": {},
   "outputs": [
    {
     "name": "stdout",
     "output_type": "stream",
     "text": [
      "-1\n"
     ]
    }
   ],
   "source": [
    "print(Y[16])"
   ]
  },
  {
   "cell_type": "markdown",
   "metadata": {
    "tags": []
   },
   "source": [
    "## 2. Phase d'entraînement : Trouver un classifieur avec la méthode SVM"
   ]
  },
  {
   "cell_type": "markdown",
   "metadata": {},
   "source": [
    "**0)** Définir `m` le nombre de données dans notre jeu de données ; et `n` la taille de chacune de ces données."
   ]
  },
  {
   "cell_type": "code",
   "execution_count": 58,
   "metadata": {},
   "outputs": [],
   "source": [
    "m = 25\n",
    "n = 64"
   ]
  },
  {
   "cell_type": "markdown",
   "metadata": {},
   "source": [
    "**1)** Nous allons trouver un classifieur linéaire avec la méthode SVM, comme au **I.**\n",
    "\n",
    "Pour ce faire, définir deux vecteurs `e`$= (1, \\dots , 1)^\\top$, `infini`$=(+\\infty, \\dots, +\\infty)^\\top$ de $\\mathbb{R}^m$, ainsi que la matrice $\\Phi \\in \\mathcal{M}_{m,n+1}(\\mathbb{R})$ définie en Section I.2. "
   ]
  },
  {
   "cell_type": "code",
   "execution_count": 59,
   "metadata": {},
   "outputs": [],
   "source": [
    "e = np.ones(m)"
   ]
  },
  {
   "cell_type": "code",
   "execution_count": 60,
   "metadata": {},
   "outputs": [],
   "source": [
    "infini = np.array([np.inf] * m)"
   ]
  },
  {
   "cell_type": "code",
   "execution_count": 61,
   "metadata": {},
   "outputs": [],
   "source": [
    "X2 = np.copy(X)\n",
    "for i in range(m):\n",
    "    X2[i, :] = Y[i] * X2[i, :]\n",
    "phi = np.append(X2, Y.reshape(m, 1), axis = 1)"
   ]
  },
  {
   "cell_type": "markdown",
   "metadata": {},
   "source": [
    "**2)** Adapter à partir de la Section **II** la méthode de résolution de votre choix pour obtenir une solution $w=(a,b) \\in \\mathbb{R}^{n+1}$ du problème de SVM (P). Vous appellerez cette solution `w_mnist`"
   ]
  },
  {
   "cell_type": "code",
   "execution_count": 62,
   "metadata": {},
   "outputs": [],
   "source": [
    "L = la.norm(phi @ np.transpose(phi))"
   ]
  },
  {
   "cell_type": "code",
   "execution_count": 63,
   "metadata": {},
   "outputs": [],
   "source": [
    "alpha_mnist = FB_dual(phi, 1/L, 10000)"
   ]
  },
  {
   "cell_type": "code",
   "execution_count": 64,
   "metadata": {},
   "outputs": [],
   "source": [
    "w_mnist = np.transpose(phi) @ alpha_mnist"
   ]
  },
  {
   "cell_type": "markdown",
   "metadata": {},
   "source": [
    "**3)** Ecrire une fonction `classifieur`, qui:\n",
    "- prend en entrée une image aplatie `x`$\\in \\mathbb{R}^n$\n",
    "- prend en entrée un vecteur de paramètres  `w`$=(a,b)\\in \\mathbb{R}^n \\times \\mathbb{R}$\n",
    "- retourne +1 si $\\langle a, x \\rangle + b \\geq 0$, -1 si $\\langle a, x \\rangle + b \\leq 0$"
   ]
  },
  {
   "cell_type": "code",
   "execution_count": 65,
   "metadata": {},
   "outputs": [],
   "source": [
    "def classifieur(x, w):\n",
    "    if np.dot(w[:(len(w) - 1)], x) + w[-1] >= 0:\n",
    "        return 1\n",
    "    else:\n",
    "        return -1"
   ]
  },
  {
   "cell_type": "markdown",
   "metadata": {},
   "source": [
    "**4)** Prendre une image au hasard dans `X`, et comparer sa vraie étiquette avec la prédiction faite par notre nouveau classifieur. Notre prédiction est elle bonne?"
   ]
  },
  {
   "cell_type": "code",
   "execution_count": 66,
   "metadata": {},
   "outputs": [
    {
     "data": {
      "text/plain": [
       "<matplotlib.image.AxesImage at 0x7fcab8dce9a0>"
      ]
     },
     "execution_count": 66,
     "metadata": {},
     "output_type": "execute_result"
    },
    {
     "data": {
      "image/png": "[encoded data removed]",
      "text/plain": [
       "<Figure size 432x288 with 1 Axes>"
      ]
     },
     "metadata": {},
     "output_type": "display_data"
    }
   ],
   "source": [
    "plt.imshow(X[22].reshape(8, 8))"
   ]
  },
  {
   "cell_type": "code",
   "execution_count": 67,
   "metadata": {},
   "outputs": [
    {
     "name": "stdout",
     "output_type": "stream",
     "text": [
      "True\n"
     ]
    }
   ],
   "source": [
    "print(classifieur(X[22], w_mnist) == Y[22])"
   ]
  },
  {
   "cell_type": "code",
   "execution_count": 68,
   "metadata": {},
   "outputs": [
    {
     "name": "stdout",
     "output_type": "stream",
     "text": [
      "Le classifieur a bien classé toutes les images de l'ensemble d'entraînement\n"
     ]
    }
   ],
   "source": [
    "# On regarde si toutes les images sont de l'ensemble d'entraînement sont bien classées\n",
    "works = all(classifieur(X[i], w_mnist) == Y[i] for i in range(len(X)))\n",
    "if works:\n",
    "    print(\"Le classifieur a bien classé toutes les images de l'ensemble d'entraînement\")\n",
    "else:\n",
    "    print(\"Le classifieur n'a pas bien classé toutes les images de l'ensemble d'entraînement\")"
   ]
  },
  {
   "cell_type": "markdown",
   "metadata": {
    "tags": []
   },
   "source": [
    "## 3. Phase de test : connaitre la vraie performance de notre classifieur"
   ]
  },
  {
   "cell_type": "markdown",
   "metadata": {},
   "source": [
    "On vient de voir que notre classifieur marche bien lorsque on l'applique aux images contenues dans `X`. Or ceci n'est pas très surprenant : le classifieur a été construit à partir de `w_mnist`, la solution d'un problème d'optimisation dépendant des données contenues dans `X,Y`. Pour vraiment déterminer si notre modèle a **appris** quelque chose, il faut le tester sur des données qu'il n'a encore **jamais vues**.\n",
    "\n",
    "On va donc maintenant utiliser les données de test `X_test` et `Y_test` que l'on a pas encore utilisées."
   ]
  },
  {
   "cell_type": "markdown",
   "metadata": {},
   "source": [
    "**1)** Calculer le pourcentage de bonnes réponses données par notre `classifieur`. Autrement dit, vous allez parcourir l'ensemble des données de test, et calculer le pourcentage du nombre de fois que le classifieur donne la bonne prédiction, en la comparant à la vraie étiquette contenue dans `Y_test`. Que pensez-vous du nombre obtenu?"
   ]
  },
  {
   "cell_type": "code",
   "execution_count": 69,
   "metadata": {},
   "outputs": [],
   "source": [
    "nb_tests = len(Y_test)\n",
    "results_test = [classifieur(X_test[i], w_mnist) == Y_test[i] for i in range(len(X_test))]\n",
    "nb_success = sum(results_test)\n",
    "success_per = (nb_success / nb_tests) * 100"
   ]
  },
  {
   "cell_type": "code",
   "execution_count": 70,
   "metadata": {},
   "outputs": [
    {
     "name": "stdout",
     "output_type": "stream",
     "text": [
      "Le pourcentage de bonne réponse est  99.70149253731343 %\n"
     ]
    }
   ],
   "source": [
    "print(\"Le pourcentage de bonne réponse est \",success_per, \"%\")"
   ]
  },
  {
   "cell_type": "markdown",
   "metadata": {},
   "source": [
    "J'ai remarqué que le bout de code permettant d'importer les images semble créer les ensembles d'entraînements et de tests aléatoirement. Donc si on relance ce bout de code plusieurs fois, le taux de réussite peut changer. Après avoir fait plusieurs tests, j'ai constaté que le taux de réussite est assez bon (généralement au dessus de `95%`)."
   ]
  },
  {
   "cell_type": "markdown",
   "metadata": {},
   "source": [
    "**2)** Si le taux de bonne réponse n'est pas de 100%, essayez de trouver dans le jeu de données quelles sont les images sur lesquelles le classifieur se trompe."
   ]
  },
  {
   "cell_type": "markdown",
   "metadata": {},
   "source": [
    "On cherche toutes les images qui n'ont pas bien été classées (on affiche l'index des images mal classées dans X_test):"
   ]
  },
  {
   "cell_type": "code",
   "execution_count": 71,
   "metadata": {},
   "outputs": [],
   "source": [
    "index_wrong_predictions = []"
   ]
  },
  {
   "cell_type": "code",
   "execution_count": 72,
   "metadata": {},
   "outputs": [],
   "source": [
    "for i in range(len(results_test)):\n",
    "    if not results_test[i]:\n",
    "        index_wrong_predictions += [i]"
   ]
  },
  {
   "cell_type": "code",
   "execution_count": 73,
   "metadata": {},
   "outputs": [
    {
     "name": "stdout",
     "output_type": "stream",
     "text": [
      "[262]\n"
     ]
    }
   ],
   "source": [
    "print(index_wrong_predictions)"
   ]
  },
  {
   "cell_type": "markdown",
   "metadata": {},
   "source": [
    "**3)** Si vous retournez au début de la section **III.**, vous pouvez voir qu'au moment de l'importation nous avons demandé à travailler avec les `classes` 0 et 1.\n",
    "\n",
    "Remplacez ces chiffres par deux autres chiffres de votre choix, et relancez votre code afin de déterminer le taux de bonne réponse du classifieur. Essayez de prendre des chiffres difficiles à classer!\n",
    "\n",
    "**NB:** Vous ne serez pas notés sur cette question, qui vous laisse libre de vous amuser. Néanmois je vous conseille de ne pas l'ignorer, car vous devrez de toute façon faire ce genre de choses dans les questions suivantes."
   ]
  },
  {
   "cell_type": "markdown",
   "metadata": {},
   "source": [
    "On va tester la performance de notre classifieur sur les chiffres `1` et `7`."
   ]
  },
  {
   "cell_type": "code",
   "execution_count": 74,
   "metadata": {},
   "outputs": [],
   "source": [
    "# importe les données\n",
    "digits = sklearn.datasets.load_digits() # Importe un jeu de données à classer (10 classes)\n",
    "digits.data = digits.data*1/np.max(digits.data) # normalise : coeffs dans [0,1]\n",
    "classes = [7, 1] # Définit les 2 classes de nombres avec lesquelles on va travailler\n",
    "idx_classes = np.logical_or(digits.target == classes[0], digits.target == classes[1]) # Localise les deux classes ..\n",
    "digits.data = digits.data[idx_classes] # .. les extrait ..\n",
    "digits.target = digits.target[idx_classes] # .. et jette le reste\n",
    "digits.target = np.where(digits.target==classes[0],-1, 1) # Transforme les étiquettes de classes en {-1,+1}\n",
    "\n",
    "X, X_test, Y, Y_test = sklearn.model_selection.train_test_split( # On coupe le jeu de données en deux\n",
    "                        digits.data, digits.target, train_size=25, shuffle=True)"
   ]
  },
  {
   "cell_type": "code",
   "execution_count": 75,
   "metadata": {},
   "outputs": [
    {
     "data": {
      "image/png": "[encoded data removed]",
      "text/plain": [
       "<Figure size 216x216 with 25 Axes>"
      ]
     },
     "metadata": {},
     "output_type": "display_data"
    }
   ],
   "source": [
    "# Affiche les 25 premières images de X\n",
    "fig, axs = plt.subplots(5, 5, figsize=(3, 3))\n",
    "for i in range(5):\n",
    "    for j in range(5):\n",
    "        k = i*5 + j\n",
    "        _ = axs[i,j].imshow(X[k].reshape(8,8))\n",
    "plt.subplots_adjust(wspace=0, hspace=0)"
   ]
  },
  {
   "cell_type": "code",
   "execution_count": 76,
   "metadata": {},
   "outputs": [],
   "source": [
    "# On redéfinit phi\n",
    "X2 = np.copy(X)\n",
    "for i in range(m):\n",
    "    X2[i, :] = Y[i] * X2[i, :]\n",
    "phi = np.append(X2, Y.reshape(m, 1), axis = 1)"
   ]
  },
  {
   "cell_type": "code",
   "execution_count": 77,
   "metadata": {},
   "outputs": [],
   "source": [
    "L = la.norm(phi @ np.transpose(phi))"
   ]
  },
  {
   "cell_type": "code",
   "execution_count": 78,
   "metadata": {},
   "outputs": [],
   "source": [
    "alpha_mnist = FB_dual(phi, 1/L, 10000)"
   ]
  },
  {
   "cell_type": "code",
   "execution_count": 79,
   "metadata": {},
   "outputs": [],
   "source": [
    "w_mnist = np.transpose(phi) @ alpha_mnist"
   ]
  },
  {
   "cell_type": "code",
   "execution_count": 80,
   "metadata": {},
   "outputs": [],
   "source": [
    "nb_tests = len(Y_test)\n",
    "results_test = [classifieur(X_test[i], w_mnist) == Y_test[i] for i in range(len(X_test))]\n",
    "nb_success = sum(results_test)\n",
    "success_per = (nb_success / nb_tests) * 100"
   ]
  },
  {
   "cell_type": "code",
   "execution_count": 81,
   "metadata": {},
   "outputs": [
    {
     "name": "stdout",
     "output_type": "stream",
     "text": [
      "Le pourcentage de bonne réponse est  99.10714285714286 %\n"
     ]
    }
   ],
   "source": [
    "print(\"Le pourcentage de bonne réponse est \",success_per, \"%\")"
   ]
  },
  {
   "cell_type": "markdown",
   "metadata": {
    "tags": []
   },
   "source": [
    "## 4. Aller plus loin : Classification multiple"
   ]
  },
  {
   "cell_type": "markdown",
   "metadata": {},
   "source": [
    "### a. Discussion"
   ]
  },
  {
   "cell_type": "markdown",
   "metadata": {
    "tags": []
   },
   "source": [
    "On a vu comment classer des données à deux étiquettes. Mais en pratique il y a souvent un plus grand nombre de classes : par exemple MNIST peut contenir jusqu'à 10 classes: les chiffres de 0 à 9! Un tel classifieur vous est par exemple mis à disposition sur [ce site](https://mco-mnist-draw-rwpxka3zaa-ue.a.run.app/), qui vous permet de dessiner en ligne un chiffre et vous fournira en temps réel une estimation de la probabilité d'appartenance à une classe de chiffre.\n",
    "\n",
    "Je vous propose dans cette section de construire un tel classifieur. Notre stratégie va consister à réunir plusieurs classifieurs à deux classes (que vous avez appris à construire dans la section précédente) pour construire un classifieur à 10 classes. \n",
    "Plus précisément notre stratégie sera:\n",
    "\n",
    "- Couper le jeu de données en deux classes : les 0 et le reste (1, ..., 9). On produit alors un classifieur qui sera capable de savoir si une image est un zéro, ou non.\n",
    "- On refait la même chose en isolant cette fois 1 versus le reste (0,2, ..., 9). Et ainsi de suite. Ce qui nous donnera 10 classifieurs, chacun répondant à la question \"est-ce que cette image est un 0? un 1? etc.\n",
    "- Etant donné une nouvelle image, on la passe dans les 10 classifieurs, et en fonction des 10 prédictions on prend une décision.\n",
    "\n",
    "\n"
   ]
  },
  {
   "cell_type": "markdown",
   "metadata": {
    "tags": []
   },
   "source": [
    "### b. Manipulation des données et construction du premier classifieur"
   ]
  },
  {
   "cell_type": "code",
   "execution_count": 82,
   "metadata": {},
   "outputs": [],
   "source": [
    "import numpy as np\n",
    "import matplotlib.pyplot as plt\n",
    "import sklearn.datasets\n",
    "import sklearn.model_selection\n",
    "from scipy.optimize import LinearConstraint, minimize"
   ]
  },
  {
   "cell_type": "code",
   "execution_count": 83,
   "metadata": {},
   "outputs": [],
   "source": [
    "plt.rcParams['xtick.bottom'] = False\n",
    "plt.rcParams['ytick.left'] = False\n",
    "plt.rcParams['xtick.labelbottom'] = False\n",
    "plt.rcParams['ytick.labelleft'] = False\n",
    "plt.rcParams['image.cmap'] = 'gray_r'"
   ]
  },
  {
   "cell_type": "code",
   "execution_count": 84,
   "metadata": {},
   "outputs": [],
   "source": [
    "digits = sklearn.datasets.load_digits() # Importe un jeu de données à classer (10 classes)\n",
    "digits.data = digits.data*1/np.max(digits.data) # normalise : coeffs dans [0,1]\n",
    "X, X_test, Y, Y_test = sklearn.model_selection.train_test_split( # On coupe le jeu de données en deux\n",
    "                        digits.data, digits.target, train_size=0.25, shuffle=True)\n",
    "etiquettes_original = Y"
   ]
  },
  {
   "cell_type": "markdown",
   "metadata": {},
   "source": [
    "**1)** Déterminer `m` le nombre de données contenues dans `X`, et `n` la dimension de ces données."
   ]
  },
  {
   "cell_type": "code",
   "execution_count": 85,
   "metadata": {},
   "outputs": [],
   "source": [
    "m = X.shape[0]\n",
    "n = X.shape[1]"
   ]
  },
  {
   "cell_type": "markdown",
   "metadata": {},
   "source": [
    "**2)** Vérifier que `Y` contient bien des étiquettes allant de 0 à 9. Dans le but de classer les 0 vs. le reste, créez un nouveau vecteur d'étiquettes `Y_temp` qui vaut +1 pour les 0, et -1 pour le reste. Faites bien attention à ne pas modifier le `Y` original!"
   ]
  },
  {
   "cell_type": "code",
   "execution_count": 86,
   "metadata": {},
   "outputs": [
    {
     "name": "stdout",
     "output_type": "stream",
     "text": [
      "Y ne contient que des étiquettes allant de 0 à 9\n"
     ]
    }
   ],
   "source": [
    "if(all([0 <= Y[i] <= 9 for i in range(m)])):\n",
    "    print(\"Y ne contient que des étiquettes allant de 0 à 9\")\n",
    "else:\n",
    "    print(\"Y ne contient pas que des étiquettes allant de 0 à 9\")"
   ]
  },
  {
   "cell_type": "code",
   "execution_count": 87,
   "metadata": {},
   "outputs": [],
   "source": [
    "Y_temp = np.array([1 if Y[i] == 0 else -1 for i in range(m)])"
   ]
  },
  {
   "cell_type": "markdown",
   "metadata": {},
   "source": [
    "**3)** En vous inspirant de ce que vous avez fait à la section précédente:\n",
    "\n",
    "- définissez le problème de SVM associé au problème de classifier 0 vs. le reste\n",
    "- résolvez-le, afin d'obtenir `w` un vecteur de paramètres définissant un hyperplan qui sépare les 0 des autres chiffres"
   ]
  },
  {
   "cell_type": "code",
   "execution_count": 88,
   "metadata": {},
   "outputs": [],
   "source": [
    "e = np.ones(m)\n",
    "\n",
    "infini = np.array([np.inf] * m)\n",
    "\n",
    "X2 = np.copy(X)\n",
    "for i in range(m):\n",
    "    X2[i, :] = Y_temp[i] * X2[i, :]\n",
    "phi = np.append(X2, Y_temp.reshape(m, 1), axis = 1)"
   ]
  },
  {
   "cell_type": "markdown",
   "metadata": {},
   "source": [
    "Pour résoudre ce problème on va utiliser le solver python."
   ]
  },
  {
   "cell_type": "code",
   "execution_count": 89,
   "metadata": {},
   "outputs": [],
   "source": [
    "c = LinearConstraint(phi, lb = e, ub = infini)\n",
    "w = minimize(\n",
    "            fun = objectif,\n",
    "            constraints = c,\n",
    "            x0 = np.random.randn(n+1)).x"
   ]
  },
  {
   "cell_type": "code",
   "execution_count": 90,
   "metadata": {},
   "outputs": [],
   "source": [
    "res = [classifieur(X[i], w) for i in range(m)]\n",
    "corrects = [res[i] == Y_temp[i] for i in range(m)] # à l'indice i on a True si le classifieur a renvoyé la bonne\n",
    "# classification"
   ]
  },
  {
   "cell_type": "code",
   "execution_count": 91,
   "metadata": {},
   "outputs": [
    {
     "name": "stdout",
     "output_type": "stream",
     "text": [
      "Pourcentage de réussite pour l'ensemble d'entraînement: 100.0 %\n"
     ]
    }
   ],
   "source": [
    "# On calcule le pourcentage de réussite pour l'ensemble d'entraînement:\n",
    "per = (sum(corrects) / m) * 100\n",
    "print(\"Pourcentage de réussite pour l'ensemble d'entraînement:\", per, \"%\")"
   ]
  },
  {
   "cell_type": "markdown",
   "metadata": {},
   "source": [
    "On peut calculer le pourcentage de réussite pour l'ensemble de test:"
   ]
  },
  {
   "cell_type": "code",
   "execution_count": 92,
   "metadata": {},
   "outputs": [],
   "source": [
    "m_test = len(Y_test)\n",
    "Y_temp_test = np.array([1 if Y_test[i] == 0 else -1 for i in range(m_test)])\n",
    "res_test = [classifieur(X_test[i], w) for i in range(m_test)]\n",
    "corrects_test = [res_test[i] == Y_temp_test[i] for i in range(m_test)]"
   ]
  },
  {
   "cell_type": "code",
   "execution_count": 93,
   "metadata": {},
   "outputs": [
    {
     "name": "stdout",
     "output_type": "stream",
     "text": [
      "Pourcentage de réussite pour l'ensemble de test: 99.77744807121661 %\n"
     ]
    }
   ],
   "source": [
    "per = (sum(corrects_test) / m_test) * 100\n",
    "print(\"Pourcentage de réussite pour l'ensemble de test:\", per, \"%\")"
   ]
  },
  {
   "cell_type": "markdown",
   "metadata": {},
   "source": [
    "**4)** Prenez quelques examples dans `X` et vérifiez que `w` définit un hyperplan qui sépare bien les 0 du reste (cf. section précédente). Rappelez-vous que les vraies étiquettes sont contenues dans `Y`."
   ]
  },
  {
   "cell_type": "code",
   "execution_count": 94,
   "metadata": {},
   "outputs": [],
   "source": [
    "# On génère 4 indexes au hasard entre 0 et m\n",
    "examples = np.random.randint(low = 0, high = m, size = 4)"
   ]
  },
  {
   "cell_type": "code",
   "execution_count": 95,
   "metadata": {},
   "outputs": [
    {
     "data": {
      "image/png": "[encoded data removed]",
      "text/plain": [
       "<Figure size 720x720 with 4 Axes>"
      ]
     },
     "metadata": {},
     "output_type": "display_data"
    }
   ],
   "source": [
    "# On affiche les images sélectionnées\n",
    "fig, axs = plt.subplots(1, 4, figsize=(10, 10))\n",
    "for i in range(len(examples)):\n",
    "    _ = axs[i].imshow(X[examples[i]].reshape(8, 8))\n",
    "plt.subplots_adjust(wspace=0, hspace=0)"
   ]
  },
  {
   "cell_type": "code",
   "execution_count": 96,
   "metadata": {},
   "outputs": [
    {
     "name": "stdout",
     "output_type": "stream",
     "text": [
      "L'image d'index, 4 de l'ensemble d'entraînement a été bien classée\n",
      "L'image d'index, 85 de l'ensemble d'entraînement a été bien classée\n",
      "L'image d'index, 369 de l'ensemble d'entraînement a été bien classée\n",
      "L'image d'index, 85 de l'ensemble d'entraînement a été bien classée\n"
     ]
    }
   ],
   "source": [
    "for i in examples:\n",
    "    if(classifieur(X[i], w) == Y_temp[i]):\n",
    "        print(\"L'image d'index,\", i, \"de l'ensemble d'entraînement a été bien classée\")\n",
    "    else:\n",
    "        print(\"L'image d'index,\", i, \"de l'ensemble d'entraînement n'a pas été bien classée\")"
   ]
  },
  {
   "cell_type": "markdown",
   "metadata": {
    "tags": []
   },
   "source": [
    "### c. Construction d'un classifieur général"
   ]
  },
  {
   "cell_type": "markdown",
   "metadata": {},
   "source": [
    "**1)** Ici vous devrez reproduire ce que vous venez de faire :\n",
    "\n",
    "- Pour chaque chiffre 'cible' entre 0 et 9:\n",
    "  - Définir un vecteur d'étiquettes décrivant un problème de classification 'cible' vs. le reste\n",
    "  - Définir le problème SVM associé et le résoudre, ce qui vous donnera un vecteurs de paramètres w\n",
    "  - Ranger chacun de ces vecteurs $w \\in \\mathbb{R}^{n+1}$ comme ligne d'une matrice $W \\in \\mathcal{M}_{10, n+1}(\\mathbb{R})$"
   ]
  },
  {
   "cell_type": "code",
   "execution_count": 97,
   "metadata": {},
   "outputs": [],
   "source": [
    "etiquettes_vectors = []\n",
    "for i in range(10):\n",
    "    etiquettes = np.array([1 if Y[j] == i else -1 for j in range(m)])\n",
    "    etiquettes_vectors.append(etiquettes)"
   ]
  },
  {
   "cell_type": "code",
   "execution_count": 98,
   "metadata": {},
   "outputs": [],
   "source": [
    "W = []\n",
    "for i in range(10):\n",
    "    X2 = np.copy(X)\n",
    "    for j in range(m):\n",
    "        X2[j, :] = etiquettes_vectors[i][j] * X2[j, :]\n",
    "    phi = np.append(X2, etiquettes_vectors[i].reshape(m, 1), axis = 1)\n",
    "    c = LinearConstraint(phi, lb = e, ub = infini)\n",
    "    w = minimize(\n",
    "            fun = objectif,\n",
    "            constraints = c,\n",
    "            x0 = np.random.randn(n+1)).x\n",
    "    W.append(np.array(w))\n",
    "W = np.array(W)"
   ]
  },
  {
   "cell_type": "markdown",
   "metadata": {},
   "source": [
    "Vérifions que $W \\in \\mathcal{M}_{10, n+1}(\\mathbb{R})$ (ici $n+1=65$):"
   ]
  },
  {
   "cell_type": "code",
   "execution_count": 99,
   "metadata": {},
   "outputs": [
    {
     "name": "stdout",
     "output_type": "stream",
     "text": [
      "(10, 65)\n"
     ]
    }
   ],
   "source": [
    "print(W.shape)"
   ]
  },
  {
   "cell_type": "markdown",
   "metadata": {},
   "source": [
    "**2)** Vérifiez que la matrice `W` obtenue donne de bons résultats. Pour cela, pous pourrez prendre une image quelconque, et la passer dans le classifieur binaire pour chaque ligne de `W` : il devrait renvoyer +1 seulement pour le bon indice."
   ]
  },
  {
   "cell_type": "code",
   "execution_count": 100,
   "metadata": {},
   "outputs": [],
   "source": [
    "example = np.random.randint(low = 0, high = m, size = 1)[0]"
   ]
  },
  {
   "cell_type": "code",
   "execution_count": 101,
   "metadata": {},
   "outputs": [
    {
     "name": "stdout",
     "output_type": "stream",
     "text": [
      "L'image a bien été classée\n",
      "Elle a été classée comme un 7\n"
     ]
    }
   ],
   "source": [
    "chiffre = Y[example]\n",
    "classification = classifieur(X[example], W[chiffre])\n",
    "if(classification == etiquettes_vectors[chiffre][example]):\n",
    "    print(\"L'image a bien été classée\")\n",
    "    print(\"Elle a été classée comme un\", chiffre)\n",
    "else:\n",
    "    print(\"L'image n'a été bien classée\")"
   ]
  },
  {
   "cell_type": "code",
   "execution_count": 102,
   "metadata": {},
   "outputs": [
    {
     "data": {
      "text/plain": [
       "<matplotlib.image.AxesImage at 0x7fcab907e730>"
      ]
     },
     "execution_count": 102,
     "metadata": {},
     "output_type": "execute_result"
    },
    {
     "data": {
      "image/png": "[encoded data removed]",
      "text/plain": [
       "<Figure size 432x288 with 1 Axes>"
      ]
     },
     "metadata": {},
     "output_type": "display_data"
    }
   ],
   "source": [
    "plt.imshow(X[example].reshape(8, 8))"
   ]
  },
  {
   "cell_type": "markdown",
   "metadata": {},
   "source": [
    "**3)** Définir une fonction `classifieur_general` qui:\n",
    "\n",
    "- prend en entrée une donnée $x$ et une matrice de paramètres  $W \\in \\mathcal{M}_{10, n+1}(\\mathbb{R})$\n",
    "- pour chaque chiffre `i` entre 0 et 9, utilise le classifieur binaire induit par `W[i,:]` pour déterminer si $x$ est égal à `i` ou non\n",
    "- renvoie `i` si $x$ est égal à `i`\n",
    "- pensez à faire en sorte que la fonction renvoie toujours quelque chose\n",
    "\n",
    "Vous testerez sur un exemple que cela marche bien."
   ]
  },
  {
   "cell_type": "code",
   "execution_count": 103,
   "metadata": {},
   "outputs": [],
   "source": [
    "def classifieur_general(x, W):\n",
    "    for i in range(10):\n",
    "        if(classifieur(x, W[i, :]) == 1):\n",
    "            return i\n",
    "    return -1 # On renvoie -1 pour signifier \"Aucune classe trouvée\""
   ]
  },
  {
   "cell_type": "markdown",
   "metadata": {},
   "source": [
    "Je précise que si l'entrée `x` peut être classée comme appartenant à deux classes, la fonction `classifieur_general` va renvoyer la première classe trouvée (par exemple si `x`est reconnue comme `1` et `7`, alors la fonction renvoie `1`)."
   ]
  },
  {
   "cell_type": "code",
   "execution_count": 104,
   "metadata": {},
   "outputs": [],
   "source": [
    "example = np.random.randint(low = 0, high = m, size = 1)[0]"
   ]
  },
  {
   "cell_type": "code",
   "execution_count": 105,
   "metadata": {},
   "outputs": [
    {
     "data": {
      "text/plain": [
       "<matplotlib.image.AxesImage at 0x7fcab8ccf700>"
      ]
     },
     "execution_count": 105,
     "metadata": {},
     "output_type": "execute_result"
    },
    {
     "data": {
      "image/png": "[encoded data removed]",
      "text/plain": [
       "<Figure size 432x288 with 1 Axes>"
      ]
     },
     "metadata": {},
     "output_type": "display_data"
    }
   ],
   "source": [
    "plt.imshow(X_test[example].reshape(8, 8))"
   ]
  },
  {
   "cell_type": "code",
   "execution_count": 106,
   "metadata": {},
   "outputs": [
    {
     "name": "stdout",
     "output_type": "stream",
     "text": [
      "3\n"
     ]
    }
   ],
   "source": [
    "print(Y_test[example])"
   ]
  },
  {
   "cell_type": "code",
   "execution_count": 107,
   "metadata": {},
   "outputs": [
    {
     "name": "stdout",
     "output_type": "stream",
     "text": [
      "3\n"
     ]
    }
   ],
   "source": [
    "print(classifieur_general(X_test[example], W))"
   ]
  },
  {
   "cell_type": "markdown",
   "metadata": {},
   "source": [
    "Étant donné que je génère `example` aléatoirement, je ne peux pas me prononcer à l'avance sur la bonne classification de l'image. En revanche, après avoir fait plusieur tests, le classifieur a l'air de bien fonctionner."
   ]
  },
  {
   "cell_type": "markdown",
   "metadata": {},
   "source": [
    "**4)** Appliquez votre `classifieur_general` aux données de test, comme au **II.3.1)**. Quel est le pourcentage de bonnes réponses de votre classifieur? Que pensez-vous du résultat?"
   ]
  },
  {
   "cell_type": "code",
   "execution_count": 108,
   "metadata": {},
   "outputs": [],
   "source": [
    "res_test = [classifieur_general(X_test[i], W) for i in range(len(X_test))]\n",
    "corrects_test = res_test == Y_test"
   ]
  },
  {
   "cell_type": "code",
   "execution_count": 109,
   "metadata": {},
   "outputs": [
    {
     "name": "stdout",
     "output_type": "stream",
     "text": [
      "Le pourcentage de réussite du classifieur général, pour l'ensemble de test est de 88.13056379821958\n"
     ]
    }
   ],
   "source": [
    "per = (sum(corrects_test) / len(X_test)) * 100\n",
    "print(\"Le pourcentage de réussite du classifieur général, pour l'ensemble de test est de\", per)"
   ]
  },
  {
   "cell_type": "markdown",
   "metadata": {
    "tags": []
   },
   "source": [
    "### d. Construction d'un classifieur général amélioré\n",
    "\n"
   ]
  },
  {
   "cell_type": "markdown",
   "metadata": {},
   "source": [
    "Le classifieur précédent souffre de quelques défauts.\n",
    "Par exemple, si une image est classée comme appartenant à deux classes, comment choisir laquelle des deux est la meilleure?\n",
    "Et si une image apparait classée comme appartenant à aucune classe, comment choisir quelle classe est la moins mauvaise?\n",
    "On donc besoin que les classifieurs binaires renvoient un peu plus que une réponse $\\pm 1$ pour chaque chiffre : il nous faut également un indice de confiance, une *probabilité* que la réponse $\\pm 1$ soit correcte.\n",
    "\n",
    "Par exemple, imaginons que le classifieur biniaire \"0 vs. le reste\" nous dise que $\\mathbb{P}(x=0) = 0.4$. Dans ce cas on pourrait conclure que $x$ n'est pas un 0, puisque $\\mathbb{P}(x\\neq 0) = 0.6$. Mais si tous les autres classifieurs binaires nous disent également que $\\mathbb{P}(x=k) = 0.01$, alors on pourrait se dire que 0 est la moins mauvaise réponse.\n",
    "\n",
    "Pour notre problème, cette probabilité va être liée à la distance entre la donnée $x$ et l'hyperplan séparateur $H_w$ : plus la donnée est proche de l'hyperplan, et moins on aura confiance en la prédiction, donc plus basse sera la probabilité."
   ]
  },
  {
   "cell_type": "markdown",
   "metadata": {},
   "source": [
    "**1)** Définir une fonction `classifieur_general2` qui reprend le principe de `classifieur_general`. Cette fois-ci, l'indice `i` renvoyé sera selui qui maximise la probabilité $p_i$, où $p \\in \\mathbb{R}^{10}$ est défini par :\n",
    "\n",
    "$$ p_i := \\frac{e^{v_i}}{\\sum\\limits_{j=1}^p e^{v_j}},\n",
    "\\quad\n",
    "v_i := \\langle a^i, x \\rangle + b^i\n",
    "$$\n",
    "avec `W[i,:]`$=(a^i, b^i)$. \n",
    "Vous testerez sur un exemple que votre fonction marche bien."
   ]
  },
  {
   "cell_type": "code",
   "execution_count": 110,
   "metadata": {},
   "outputs": [],
   "source": [
    "def proba_i(x, W, i):\n",
    "    dim = len(W[0])\n",
    "    w_i = W[i, :]\n",
    "    a_i = w_i[:dim - 1]\n",
    "    b_i = w_i[-1]\n",
    "    v_i = np.dot(a_i, x) + b_i\n",
    "    num = math.exp(v_i)\n",
    "    den = sum([math.exp(np.dot(W[j, :][:dim - 1], x) + W[j, :][-1]) for j in range(len(W))])\n",
    "    return num / den"
   ]
  },
  {
   "cell_type": "code",
   "execution_count": 111,
   "metadata": {},
   "outputs": [],
   "source": [
    "def classifieur_general2(x, W):\n",
    "    p_i = []\n",
    "    for i in range(10):\n",
    "        p_i.append(proba_i(x, W, i))\n",
    "    max_pi = max(p_i)\n",
    "    return p_i.index(max_pi)"
   ]
  },
  {
   "cell_type": "code",
   "execution_count": 112,
   "metadata": {},
   "outputs": [],
   "source": [
    "example = np.random.randint(low = 0, high = m, size = 1)[0]"
   ]
  },
  {
   "cell_type": "code",
   "execution_count": 113,
   "metadata": {
    "scrolled": true
   },
   "outputs": [
    {
     "name": "stdout",
     "output_type": "stream",
     "text": [
      "6\n"
     ]
    }
   ],
   "source": [
    "print(classifieur_general2(X_test[example], W))"
   ]
  },
  {
   "cell_type": "code",
   "execution_count": 114,
   "metadata": {},
   "outputs": [
    {
     "name": "stdout",
     "output_type": "stream",
     "text": [
      "6\n"
     ]
    }
   ],
   "source": [
    "print(Y_test[example])"
   ]
  },
  {
   "cell_type": "code",
   "execution_count": 115,
   "metadata": {},
   "outputs": [
    {
     "data": {
      "text/plain": [
       "<matplotlib.image.AxesImage at 0x7fcab88b8280>"
      ]
     },
     "execution_count": 115,
     "metadata": {},
     "output_type": "execute_result"
    },
    {
     "data": {
      "image/png": "[encoded data removed]",
      "text/plain": [
       "<Figure size 432x288 with 1 Axes>"
      ]
     },
     "metadata": {},
     "output_type": "display_data"
    }
   ],
   "source": [
    "plt.imshow(X_test[example].reshape(8, 8))"
   ]
  },
  {
   "cell_type": "markdown",
   "metadata": {},
   "source": [
    "**2)** Estimer la performance de votre nouveau classifieur sur les données de test. Comparer avec le classifieur précédent. "
   ]
  },
  {
   "cell_type": "code",
   "execution_count": 116,
   "metadata": {},
   "outputs": [
    {
     "name": "stdout",
     "output_type": "stream",
     "text": [
      "Le pourcentage de réussite du classifieur général 2, pour l'ensemble de test est de 92.87833827893175\n"
     ]
    }
   ],
   "source": [
    "res_test2 = [classifieur_general2(X_test[i], W) for i in range(len(X_test))]\n",
    "corrects_test2 = res_test2 == Y_test\n",
    "per2 = (sum(corrects_test2) / len(X_test)) * 100\n",
    "print(\"Le pourcentage de réussite du classifieur général 2, pour l'ensemble de test est de\", per2)"
   ]
  },
  {
   "cell_type": "markdown",
   "metadata": {},
   "source": [
    "Ce nouveau classifieur a une meilleure performance que le précédent. Après avoir fait plusieurs tests, le pourcentage de réussite augmente souvent de `2%` à `5%`."
   ]
  },
  {
   "cell_type": "markdown",
   "metadata": {},
   "source": [
    "**Pour aller plus loin:** \n",
    "\n",
    "- Rien ne vous empêche de dessiner vos propres chiffres, et de tester si votre classifieur le reconnait.. Pour cela il vous suffit de produire une image carrée, de la redimensionner en image 8x8, puis de l'importer dans python.\n",
    "- Il existe d'autres façons de faire de la classification multiclasse. C'est simplement et rapidement expliqué dans [ce cours en ligne](https://openclassrooms.com/fr/courses/4444646-entrainez-un-modele-predictif-lineaire/4507846-classifiez-vos-donnees-en-plus-de-deux-classes) de Chloé-Agathe Azencott."
   ]
  },
  {
   "cell_type": "markdown",
   "metadata": {},
   "source": [
    "**Notes**\n",
    "\n",
    "Ressources utilisées pour le chargment et utilisation de MNIST:\n",
    "\n",
    "- https://dmkothari.github.io/Machine-Learning-Projects/SVM_with_MNIST.html\n",
    "- https://towardsdatascience.com/support-vector-machine-mnist-digit-classification-with-python-including-my-hand-written-digits-83d6eca7004a\n",
    "- https://scikit-learn.org/stable/auto_examples/classification/plot_digits_classification.html"
   ]
  },
  {
   "cell_type": "markdown",
   "metadata": {},
   "source": [
    "**Avant de partir:** pensez à bien relire les instructions en début de devoir!"
   ]
  }
 ],
 "metadata": {
  "kernelspec": {
   "display_name": "Python 3",
   "language": "python",
   "name": "python3"
  },
  "language_info": {
   "codemirror_mode": {
    "name": "ipython",
    "version": 3
   },
   "file_extension": ".py",
   "mimetype": "text/x-python",
   "name": "python",
   "nbconvert_exporter": "python",
   "pygments_lexer": "ipython3",
   "version": "3.8.5"
  }
 },
 "nbformat": 4,
 "nbformat_minor": 4
}
